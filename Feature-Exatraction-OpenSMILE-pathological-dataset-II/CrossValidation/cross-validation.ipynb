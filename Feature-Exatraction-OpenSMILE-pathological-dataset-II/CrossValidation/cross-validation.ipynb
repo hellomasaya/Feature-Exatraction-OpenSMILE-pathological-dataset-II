{
 "cells": [
  {
   "cell_type": "code",
   "execution_count": 2,
   "metadata": {},
   "outputs": [],
   "source": [
    "import numpy as np\n",
    "import pandas as pd\n",
    "import csv\n",
    "from sklearn.metrics import confusion_matrix\n",
    "from sklearn.metrics import recall_score\n",
    "from sklearn.metrics import precision_score\n",
    "from sklearn.metrics import f1_score"
   ]
  },
  {
   "cell_type": "code",
   "execution_count": 3,
   "metadata": {},
   "outputs": [],
   "source": [
    "def readData():    \n",
    "    patientdata = pd.read_csv('./patient_output.csv', delimiter='\\t')\n",
    "    healthydata = pd.read_csv('./healthy_output.csv', delimiter='\\t')\n",
    "\n",
    "    columns = patientdata.columns.values.tolist()\n",
    "    \n",
    "    return patientdata, healthydata, columns"
   ]
  },
  {
   "cell_type": "code",
   "execution_count": 31,
   "metadata": {},
   "outputs": [],
   "source": [
    "def createSamplesAndLabels(patient_df, healthy_df):\n",
    "    listofzeros = [0] * len(healthy_df)\n",
    "    listofones = [1] * len(patient_df)\n",
    "\n",
    "    patient_df['Label'] = listofones\n",
    "    healthy_df['Label'] = listofzeros\n",
    "\n",
    "    patient_samples = patient_df.to_numpy()\n",
    "    healthy_samples = healthy_df.to_numpy()\n",
    "\n",
    "    samples = np.vstack((patient_samples, healthy_samples))\n",
    "    \n",
    "    np.random.shuffle(samples)\n",
    "\n",
    "    labels = samples[:,-1]\n",
    "    labels = labels.astype(int)\n",
    "    \n",
    "    samples = np.delete(samples, -1, 1)\n",
    "\n",
    "    return samples, labels"
   ]
  },
  {
   "cell_type": "code",
   "execution_count": 5,
   "metadata": {},
   "outputs": [],
   "source": [
    "from sklearn.svm import SVC\n",
    "\n",
    "def svm(training_samples, training_labels, test_samples):\n",
    "    clf = SVC(kernel=\"linear\")\n",
    "    clf.fit(training_samples, training_labels)\n",
    "    return clf.predict(test_samples)"
   ]
  },
  {
   "cell_type": "code",
   "execution_count": 6,
   "metadata": {},
   "outputs": [],
   "source": [
    "from sklearn.cluster import KMeans\n",
    "\n",
    "def kMeans(training_samples, training_labels, test_samples):\n",
    "    kmeans = KMeans(n_clusters=2, random_state=0)\n",
    "    kmeans.fit(training_samples, training_labels)\n",
    "    return kmeans.predict(test_samples)"
   ]
  },
  {
   "cell_type": "code",
   "execution_count": 7,
   "metadata": {},
   "outputs": [],
   "source": [
    "from sklearn.ensemble import RandomForestClassifier\n",
    "\n",
    "def rf(training_samples, training_labels, test_samples):\n",
    "    clf = RandomForestClassifier(random_state=1, n_estimators=300)\n",
    "    clf.fit(training_samples, training_labels)\n",
    "    return clf.predict(test_samples)"
   ]
  },
  {
   "cell_type": "code",
   "execution_count": 8,
   "metadata": {},
   "outputs": [],
   "source": [
    "def calculate_cm_recall_precision(testlabels, y_true):\n",
    "    y_pred = list(testlabels)\n",
    "    labels = [0, 1]\n",
    "    recall = recall_score(y_true, y_pred, labels, average=None)\n",
    "    precision = precision_score(y_true, y_pred,labels, average=None)\n",
    "    f1 = f1_score(y_true, y_pred,labels, average=None)\n",
    "    return confusion_matrix(y_true, y_pred), recall, precision, f1;"
   ]
  },
  {
   "cell_type": "code",
   "execution_count": 32,
   "metadata": {},
   "outputs": [],
   "source": [
    "from sklearn.model_selection import StratifiedKFold\n",
    "\n",
    "def kFoldCrossValidation(n, X, y):\n",
    "    skf = StratifiedKFold(n_splits=n, shuffle=True)\n",
    "    for train_index, test_index in skf.split(X, y):\n",
    "        X_train, X_test = X[train_index], X[test_index]\n",
    "        y_train, y_test = y[train_index], y[test_index]\n",
    "        \n",
    "        predicted_test_labels = svm(X_train, y_train, X_test)\n",
    "#         predicted_test_labels = kMeans(X_train, y_train, X_test)\n",
    "#         predicted_test_labels = rf(X_train, y_train, X_test)\n",
    "        \n",
    "        cm, recall, precision, f1 = calculate_cm_recall_precision(predicted_test_labels, y_test)\n",
    "        print(\"cm\", cm, \"\\nrecall\", recall, \"\\nprecision\", precision, \"\\nf1:\", f1)\n",
    "        print(\"Mean Recall:\", np.mean(recall))\n",
    "        print(\"Mean Precision:\", np.mean(precision))\n",
    "        print(\"meanf1:\", np.mean(f1))\n",
    "        print('\\n')"
   ]
  },
  {
   "cell_type": "code",
   "execution_count": 33,
   "metadata": {},
   "outputs": [],
   "source": [
    "patient_df, healthy_df, features = readData();\n",
    "samples, labels = createSamplesAndLabels(patient_df, healthy_df)"
   ]
  },
  {
   "cell_type": "code",
   "execution_count": 34,
   "metadata": {},
   "outputs": [
    {
     "name": "stdout",
     "output_type": "stream",
     "text": [
      "cm [[201  16]\n",
      " [  7 427]] \n",
      "recall [0.92626728 0.98387097] \n",
      "precision [0.96634615 0.96388262] \n",
      "f1: [0.94588235 0.97377423]\n",
      "Mean Recall: 0.9550691244239631\n",
      "Mean Precision: 0.9651143861781559\n",
      "meanf1: 0.9598282916359246\n",
      "\n",
      "\n",
      "cm [[207  10]\n",
      " [  8 426]] \n",
      "recall [0.95391705 0.98156682] \n",
      "precision [0.9627907  0.97706422] \n",
      "f1: [0.95833333 0.97931034]\n",
      "Mean Recall: 0.967741935483871\n",
      "Mean Precision: 0.9699274589289524\n",
      "meanf1: 0.9688218390804597\n",
      "\n",
      "\n",
      "cm [[203  13]\n",
      " [ 13 421]] \n",
      "recall [0.93981481 0.97004608] \n",
      "precision [0.93981481 0.97004608] \n",
      "f1: [0.93981481 0.97004608]\n",
      "Mean Recall: 0.9549304488820618\n",
      "Mean Precision: 0.9549304488820618\n",
      "meanf1: 0.9549304488820618\n",
      "\n",
      "\n",
      "cm [[203  13]\n",
      " [ 20 413]] \n",
      "recall [0.93981481 0.95381062] \n",
      "precision [0.9103139  0.96948357] \n",
      "f1: [0.92482916 0.96158324]\n",
      "Mean Recall: 0.9468127191856983\n",
      "Mean Precision: 0.9398987347102044\n",
      "meanf1: 0.9432061967483514\n",
      "\n",
      "\n",
      "cm [[205  11]\n",
      " [ 10 423]] \n",
      "recall [0.94907407 0.97690531] \n",
      "precision [0.95348837 0.97465438] \n",
      "f1: [0.9512761  0.97577855]\n",
      "Mean Recall: 0.9629896929261825\n",
      "Mean Precision: 0.9640713749866039\n",
      "meanf1: 0.9635273244004849\n",
      "\n",
      "\n"
     ]
    }
   ],
   "source": [
    "kFoldCrossValidation(5, samples, labels)"
   ]
  },
  {
   "cell_type": "code",
   "execution_count": null,
   "metadata": {},
   "outputs": [],
   "source": []
  }
 ],
 "metadata": {
  "kernelspec": {
   "display_name": "Python 3",
   "language": "python",
   "name": "python3"
  },
  "language_info": {
   "codemirror_mode": {
    "name": "ipython",
    "version": 3
   },
   "file_extension": ".py",
   "mimetype": "text/x-python",
   "name": "python",
   "nbconvert_exporter": "python",
   "pygments_lexer": "ipython3",
   "version": "3.7.0"
  }
 },
 "nbformat": 4,
 "nbformat_minor": 4
}

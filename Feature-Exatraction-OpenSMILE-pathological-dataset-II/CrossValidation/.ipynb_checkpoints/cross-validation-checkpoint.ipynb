{
 "cells": [
  {
   "cell_type": "code",
   "execution_count": 117,
   "metadata": {},
   "outputs": [],
   "source": [
    "import numpy as np\n",
    "import pandas as pd\n",
    "import csv\n",
    "from sklearn.metrics import confusion_matrix\n",
    "from sklearn.metrics import recall_score\n",
    "from sklearn.metrics import precision_score\n",
    "from sklearn.metrics import f1_score"
   ]
  },
  {
   "cell_type": "code",
   "execution_count": 118,
   "metadata": {},
   "outputs": [],
   "source": [
    "def readData():    \n",
    "    patientdata = pd.read_csv('./patient_output.csv', delimiter='\\t')\n",
    "    healthydata = pd.read_csv('./healthy_output.csv', delimiter='\\t')\n",
    "\n",
    "    columns = patientdata.columns.values.tolist()\n",
    "    \n",
    "    return patientdata, healthydata, columns"
   ]
  },
  {
   "cell_type": "code",
   "execution_count": 130,
   "metadata": {},
   "outputs": [],
   "source": [
    "def createSamplesAndLabels(patient_df, healthy_df):\n",
    "    listofzeros = [0] * len(healthy_df)\n",
    "    listofones = [1] * len(patient_df)\n",
    "\n",
    "    patient_df['Label'] = listofones\n",
    "    healthy_df['Label'] = listofzeros\n",
    "\n",
    "    patient_samples = patient_df.to_numpy()\n",
    "    healthy_samples = healthy_df.to_numpy()\n",
    "\n",
    "    samples = np.vstack((patient_samples, healthy_samples))\n",
    "\n",
    "    np.random.shuffle(samples)\n",
    "\n",
    "    labels = samples[:,-1]\n",
    "    labels = labels.astype(int)\n",
    "\n",
    "    return samples, labels"
   ]
  },
  {
   "cell_type": "code",
   "execution_count": 131,
   "metadata": {},
   "outputs": [],
   "source": [
    "from sklearn.svm import SVC\n",
    "\n",
    "def svm(training_samples, training_labels, test_samples):\n",
    "    clf = SVC(kernel=\"linear\")\n",
    "    clf.fit(training_samples, training_labels)\n",
    "    return clf.predict(test_samples)"
   ]
  },
  {
   "cell_type": "code",
   "execution_count": 132,
   "metadata": {},
   "outputs": [],
   "source": [
    "from sklearn.cluster import KMeans\n",
    "\n",
    "def kMeans(training_samples, training_labels, test_samples):\n",
    "    kmeans = KMeans(n_clusters=2, random_state=0)\n",
    "    kmeans.fit(training_samples, training_labels)\n",
    "    return kmeans.predict(test_samples)"
   ]
  },
  {
   "cell_type": "code",
   "execution_count": 133,
   "metadata": {},
   "outputs": [],
   "source": [
    "from sklearn.ensemble import RandomForestClassifier\n",
    "\n",
    "def rf(training_samples, training_labels, test_samples):\n",
    "    clf = RandomForestClassifier(random_state=1, n_estimators=300)\n",
    "    clf.fit(training_samples, training_labels)\n",
    "    return clf.predict(test_samples)"
   ]
  },
  {
   "cell_type": "code",
   "execution_count": 150,
   "metadata": {},
   "outputs": [],
   "source": [
    "def calculate_cm_recall_precision(testlabels, y_true):\n",
    "    y_pred = list(testlabels)\n",
    "    labels = [0, 1]\n",
    "    recall = recall_score(y_true, y_pred, labels, average=None)\n",
    "    precision = precision_score(y_true, y_pred,labels, average=None)\n",
    "    f1 = f1_score(y_true, y_pred,labels, average=None)\n",
    "    return confusion_matrix(y_true, y_pred), recall, precision, f1;"
   ]
  },
  {
   "cell_type": "code",
   "execution_count": 164,
   "metadata": {},
   "outputs": [],
   "source": [
    "from sklearn.model_selection import StratifiedKFold\n",
    "\n",
    "def kFoldCrossValidation(n, X, y):\n",
    "    skf = StratifiedKFold(n_splits=n, shuffle=True)\n",
    "    for train_index, test_index in skf.split(X, y):\n",
    "        X_train, X_test = X[train_index], X[test_index]\n",
    "        y_train, y_test = y[train_index], y[test_index]\n",
    "        \n",
    "#         predicted_test_labels = svm(X_train, y_train, X_test)\n",
    "#         predicted_test_labels = kMeans(X_train, y_train, X_test)\n",
    "        predicted_test_labels = rf(X_train, y_train, X_test)\n",
    "        \n",
    "        cm, recall, precision, f1 = calculate_cm_recall_precision(predicted_test_labels, y_test)\n",
    "        print(\"cm\", cm, \"\\nrecall\", recall, \"\\nprecision\", precision, \"\\nf1:\", f1)\n",
    "        print(\"Mean Recall:\", np.mean(recall))\n",
    "        print(\"Mean Precision:\", np.mean(precision))\n",
    "        print(\"meanf1:\", np.mean(f1))\n",
    "        print('\\n')"
   ]
  },
  {
   "cell_type": "code",
   "execution_count": 158,
   "metadata": {},
   "outputs": [],
   "source": [
    "patient_df, healthy_df, features = readData();\n",
    "samples, labels = createSamplesAndLabels(patient_df, healthy_df)"
   ]
  },
  {
   "cell_type": "code",
   "execution_count": 165,
   "metadata": {},
   "outputs": [
    {
     "name": "stdout",
     "output_type": "stream",
     "text": [
      "cm [[210   7]\n",
      " [  4 430]] \n",
      "recall [0.96774194 0.99078341] \n",
      "precision [0.98130841 0.98398169] \n",
      "f1: [0.97447796 0.98737084]\n",
      "Mean Recall: 0.9792626728110599\n",
      "Mean Precision: 0.9826450522893988\n",
      "meanf1: 0.9809243981768829\n",
      "\n",
      "\n",
      "cm [[212   5]\n",
      " [  2 432]] \n",
      "recall [0.97695853 0.99539171] \n",
      "precision [0.99065421 0.98855835] \n",
      "f1: [0.9837587  0.99196326]\n",
      "Mean Recall: 0.9861751152073732\n",
      "Mean Precision: 0.9896062790051113\n",
      "meanf1: 0.9878609806580163\n",
      "\n",
      "\n",
      "cm [[207   9]\n",
      " [  3 431]] \n",
      "recall [0.95833333 0.99308756] \n",
      "precision [0.98571429 0.97954545] \n",
      "f1: [0.97183099 0.98627002]\n",
      "Mean Recall: 0.9757104454685099\n",
      "Mean Precision: 0.9826298701298701\n",
      "meanf1: 0.979050504399394\n",
      "\n",
      "\n",
      "cm [[201  15]\n",
      " [  2 431]] \n",
      "recall [0.93055556 0.99538106] \n",
      "precision [0.99014778 0.96636771] \n",
      "f1: [0.95942721 0.98065984]\n",
      "Mean Recall: 0.9629683089556069\n",
      "Mean Precision: 0.9782577481278579\n",
      "meanf1: 0.9700435241826659\n",
      "\n",
      "\n",
      "cm [[205  11]\n",
      " [  3 430]] \n",
      "recall [0.94907407 0.99307159] \n",
      "precision [0.98557692 0.97505669] \n",
      "f1: [0.96698113 0.98398169]\n",
      "Mean Recall: 0.9710728338037806\n",
      "Mean Precision: 0.9803168062096634\n",
      "meanf1: 0.975481412719658\n",
      "\n",
      "\n"
     ]
    }
   ],
   "source": [
    "kFoldCrossValidation(5, samples, labels)"
   ]
  },
  {
   "cell_type": "code",
   "execution_count": null,
   "metadata": {},
   "outputs": [],
   "source": []
  }
 ],
 "metadata": {
  "kernelspec": {
   "display_name": "Python 3",
   "language": "python",
   "name": "python3"
  },
  "language_info": {
   "codemirror_mode": {
    "name": "ipython",
    "version": 3
   },
   "file_extension": ".py",
   "mimetype": "text/x-python",
   "name": "python",
   "nbconvert_exporter": "python",
   "pygments_lexer": "ipython3",
   "version": "3.7.0"
  }
 },
 "nbformat": 4,
 "nbformat_minor": 4
}

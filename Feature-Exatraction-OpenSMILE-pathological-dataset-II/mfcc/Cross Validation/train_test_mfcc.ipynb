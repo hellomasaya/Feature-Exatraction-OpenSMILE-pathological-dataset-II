{
 "cells": [
  {
   "cell_type": "code",
   "execution_count": 44,
   "metadata": {},
   "outputs": [],
   "source": [
    "import numpy as np\n",
    "import pandas as pd\n",
    "import csv\n",
    "from IPython.display import HTML, display\n",
    "import tabulate\n",
    "from sklearn.metrics import confusion_matrix\n",
    "from sklearn.metrics import recall_score\n",
    "from sklearn.metrics import precision_score\n",
    "from sklearn.metrics import f1_score\n",
    "import matplotlib.pyplot as plt\n",
    "from sklearn.metrics import accuracy_score"
   ]
  },
  {
   "cell_type": "code",
   "execution_count": 6,
   "metadata": {},
   "outputs": [],
   "source": [
    "def readData():    \n",
    "    patientdata = pd.read_csv('../mfcc_features_patient.csv', delimiter=' ')\n",
    "    healthydata = pd.read_csv('../mfcc_features_healthy.csv', delimiter=' ')\n",
    "    \n",
    "    return patientdata, healthydata"
   ]
  },
  {
   "cell_type": "code",
   "execution_count": 7,
   "metadata": {},
   "outputs": [],
   "source": [
    "def createSamplesAndLabels(patient_df, healthy_df):\n",
    "    print(len(healthy_df), len(patient_df))\n",
    "    listofzeros = [0] * len(healthy_df)\n",
    "    listofones = [1] * len(patient_df)\n",
    "    \n",
    "    patient_df['Label'] = listofones\n",
    "    healthy_df['Label'] = listofzeros\n",
    "\n",
    "    patient_samples = patient_df.to_numpy()\n",
    "    healthy_samples = healthy_df.to_numpy()\n",
    "\n",
    "    samples = np.vstack((patient_samples, healthy_samples))\n",
    "#     print(samples[0], '\\n', samples[120])\n",
    "    np.random.shuffle(samples)\n",
    "\n",
    "    # actual label of frame 1-patient; 0-healthy\n",
    "    labels = samples[:,-1]\n",
    "    labels = labels.astype(int)\n",
    "    samples = np.delete(samples, -1, 1)\n",
    "    \n",
    "    # audio number to which the frame belongs\n",
    "    # audio number: first digit represents healthy(0)/patient(1) - rest of the digits \n",
    "    # represent the audio number in each of healthy and patient\n",
    "    audio_num = samples[:,-1]\n",
    "    audio_num = audio_num.astype(int)\n",
    "    samples = np.delete(samples, -1, 1)\n",
    "#     print(len(samples), len(labels))\n",
    "\n",
    "    return samples, labels, audio_num"
   ]
  },
  {
   "cell_type": "code",
   "execution_count": 17,
   "metadata": {},
   "outputs": [],
   "source": [
    "from sklearn.svm import SVC\n",
    "\n",
    "def svm(training_samples, training_labels, test_samples):\n",
    "    clf = SVC(kernel=\"linear\")\n",
    "    clf.fit(training_samples, training_labels)\n",
    "#     print(\"Training complete\\n\")\n",
    "    return clf.predict(test_samples)"
   ]
  },
  {
   "cell_type": "code",
   "execution_count": 9,
   "metadata": {},
   "outputs": [],
   "source": [
    "from sklearn.cluster import KMeans\n",
    "\n",
    "def kMeans(training_samples, training_labels, test_samples):\n",
    "    kmeans = KMeans(n_clusters=2, random_state=0)\n",
    "    kmeans.fit(training_samples, training_labels)\n",
    "    return kmeans.predict(test_samples)"
   ]
  },
  {
   "cell_type": "code",
   "execution_count": 10,
   "metadata": {},
   "outputs": [],
   "source": [
    "from sklearn.ensemble import RandomForestClassifier\n",
    "\n",
    "def rf(training_samples, training_labels, test_samples):\n",
    "    clf = RandomForestClassifier(random_state=1, n_estimators=300)\n",
    "    clf.fit(training_samples, training_labels)\n",
    "    return clf.predict(test_samples)"
   ]
  },
  {
   "cell_type": "code",
   "execution_count": 11,
   "metadata": {},
   "outputs": [],
   "source": [
    "def calculate_cm_recall_precision(testlabels, y_true):\n",
    "    y_pred = list(testlabels)\n",
    "    labels = [0, 1]\n",
    "    recall = recall_score(y_true, y_pred, labels, average=None)\n",
    "    precision = precision_score(y_true, y_pred,labels, average=None)\n",
    "    f1 = f1_score(y_true, y_pred,labels, average=None)\n",
    "    return confusion_matrix(y_true, y_pred), recall, precision, f1;"
   ]
  },
  {
   "cell_type": "code",
   "execution_count": 12,
   "metadata": {},
   "outputs": [
    {
     "name": "stdout",
     "output_type": "stream",
     "text": [
      "1083 2173\n"
     ]
    }
   ],
   "source": [
    "patient_df, healthy_df = readData();\n",
    "samples, labels, audio_num = createSamplesAndLabels(patient_df, healthy_df)"
   ]
  },
  {
   "cell_type": "code",
   "execution_count": 13,
   "metadata": {},
   "outputs": [],
   "source": [
    "samples = samples.astype(np.float)\n",
    "labels = labels.astype(np.float)\n",
    "# print(type(samples), type(samples[0][0]))"
   ]
  },
  {
   "cell_type": "code",
   "execution_count": 14,
   "metadata": {},
   "outputs": [],
   "source": [
    "from sklearn.model_selection import train_test_split\n",
    "X_train, X_test, y_train, y_test = train_test_split(samples, labels, test_size=0.33)"
   ]
  },
  {
   "cell_type": "code",
   "execution_count": 32,
   "metadata": {},
   "outputs": [],
   "source": [
    "predicted_test_labels_svm = svm(X_train, y_train, X_test)"
   ]
  },
  {
   "cell_type": "code",
   "execution_count": 48,
   "metadata": {},
   "outputs": [
    {
     "data": {
      "image/png": "[encoded data removed]",
      "text/plain": [
       "<Figure size 432x288 with 2 Axes>"
      ]
     },
     "metadata": {
      "needs_background": "light"
     },
     "output_type": "display_data"
    },
    {
     "data": {
      "text/html": [
       "<table>\n",
       "<tbody>\n",
       "<tr><td>Random Forest</td><td>                  </td><td>                  </td></tr>\n",
       "<tr><td>Metric       </td><td>Healthy           </td><td>Patient           </td></tr>\n",
       "<tr><td>Recall       </td><td>0.553475935828877 </td><td>0.8887303851640513</td></tr>\n",
       "<tr><td>Precision    </td><td>0.7263157894736842</td><td>0.7886075949367088</td></tr>\n",
       "<tr><td>F1-Score     </td><td>0.6282245827010622</td><td>0.835680751173709 </td></tr>\n",
       "<tr><td>Accuracy     </td><td>0.772093023255814 </td><td>                  </td></tr>\n",
       "</tbody>\n",
       "</table>"
      ],
      "text/plain": [
       "<IPython.core.display.HTML object>"
      ]
     },
     "metadata": {},
     "output_type": "display_data"
    }
   ],
   "source": [
    "cm_svm, recall_svm, precision_svm, f1_svm = calculate_cm_recall_precision(predicted_test_labels_svm, y_test)\n",
    "# plt.matshow(cm)\n",
    "acc_svm = accuracy_score(predicted_test_labels_svm, y_test)\n",
    "\n",
    "labels = ['Healthy', 'Patient']\n",
    "fig = plt.figure()\n",
    "ax = fig.add_subplot(111)\n",
    "cax = ax.matshow(cm_svm)\n",
    "plt.title('Confusion matrix of the SVM')\n",
    "fig.colorbar(cax)\n",
    "ax.set_xticklabels([''] + labels)\n",
    "ax.set_yticklabels([''] + labels)\n",
    "plt.xlabel('Predicted')\n",
    "plt.ylabel('True')\n",
    "plt.show()\n",
    "\n",
    "# print(\"cm\", cm_svm, \"\\nrecall\", recall_svm, \"\\nprecision\", precision_svm, \"\\nf1:\", f1_svm)\n",
    "# print(\"meanf1:\", np.mean(f1_svm))\n",
    "\n",
    "answer_svm = [['Random Forest'],\n",
    "                  [\"Metric\", \"Healthy\", \"Patient\"],\n",
    "                  [\"Recall\", recall_svm[0], recall_svm[1]],\n",
    "                  [\"Precision\", precision_svm[0], precision_svm[1]],\n",
    "                  [\"F1-Score\", f1_svm[0], f1_svm[1]],\n",
    "               [\"Accuracy\", acc_svm],\n",
    "                 ]\n",
    "\n",
    "display(HTML(tabulate.tabulate(answer_svm, tablefmt='html')))"
   ]
  },
  {
   "cell_type": "code",
   "execution_count": 37,
   "metadata": {},
   "outputs": [],
   "source": [
    "predicted_test_labels_k = kMeans(X_train, y_train, X_test)"
   ]
  },
  {
   "cell_type": "code",
   "execution_count": 47,
   "metadata": {},
   "outputs": [
    {
     "data": {
      "image/png": "[encoded data removed]",
      "text/plain": [
       "<Figure size 432x288 with 2 Axes>"
      ]
     },
     "metadata": {
      "needs_background": "light"
     },
     "output_type": "display_data"
    },
    {
     "data": {
      "text/html": [
       "<table>\n",
       "<tbody>\n",
       "<tr><td>kMeans   </td><td>                   </td><td>                  </td></tr>\n",
       "<tr><td>Metric   </td><td>Healthy            </td><td>Patient           </td></tr>\n",
       "<tr><td>Recall   </td><td>0.21390374331550802</td><td>0.362339514978602 </td></tr>\n",
       "<tr><td>Precision</td><td>0.15180265654648956</td><td>0.4635036496350365</td></tr>\n",
       "<tr><td>F1-Score </td><td>0.1775804661487236 </td><td>0.4067253803042434</td></tr>\n",
       "<tr><td>Accuracy </td><td>0.31069767441860463</td><td>                  </td></tr>\n",
       "</tbody>\n",
       "</table>"
      ],
      "text/plain": [
       "<IPython.core.display.HTML object>"
      ]
     },
     "metadata": {},
     "output_type": "display_data"
    }
   ],
   "source": [
    "cm_k, recall_k, precision_k, f1_k = calculate_cm_recall_precision(predicted_test_labels_k, y_test)\n",
    "# plt.matshow(cm)\n",
    "acc_k = accuracy_score(predicted_test_labels_k, y_test)\n",
    "\n",
    "\n",
    "labels = ['Healthy', 'Patient']\n",
    "fig = plt.figure()\n",
    "ax = fig.add_subplot(111)\n",
    "cax = ax.matshow(cm_k)\n",
    "plt.title('Confusion matrix of kMeans Classifier')\n",
    "fig.colorbar(cax)\n",
    "ax.set_xticklabels([''] + labels)\n",
    "ax.set_yticklabels([''] + labels)\n",
    "plt.xlabel('Predicted')\n",
    "plt.ylabel('True')\n",
    "plt.show()\n",
    "\n",
    "answer_k = [['kMeans'],\n",
    "                  [\"Metric\", \"Healthy\", \"Patient\"],\n",
    "                  [\"Recall\", recall_k[0], recall_k[1]],\n",
    "                  [\"Precision\", precision_k[0], precision_k[1]],\n",
    "                  [\"F1-Score\", f1_k[0], f1_k[1]],\n",
    "            [\"Accuracy\", acc_k],\n",
    "                 ]\n",
    "\n",
    "display(HTML(tabulate.tabulate(answer_k, tablefmt='html')))\n",
    "\n",
    "# print(\"cm\", cm_k, \"\\nrecall\", recall_k, \"\\nprecision\", precision_k, \"\\nf1:\", f1_k)\n",
    "# print(\"meanf1:\", np.mean(f1_k))"
   ]
  },
  {
   "cell_type": "code",
   "execution_count": 39,
   "metadata": {},
   "outputs": [],
   "source": [
    "predicted_test_labels_r = rf(X_train, y_train, X_test)"
   ]
  },
  {
   "cell_type": "code",
   "execution_count": 46,
   "metadata": {},
   "outputs": [
    {
     "name": "stdout",
     "output_type": "stream",
     "text": [
      "0.7683720930232558\n"
     ]
    },
    {
     "data": {
      "image/png": "[encoded data removed]",
      "text/plain": [
       "<Figure size 432x288 with 2 Axes>"
      ]
     },
     "metadata": {
      "needs_background": "light"
     },
     "output_type": "display_data"
    },
    {
     "data": {
      "text/html": [
       "<table>\n",
       "<tbody>\n",
       "<tr><td>Random Forest</td><td>                   </td><td>                  </td></tr>\n",
       "<tr><td>Metric       </td><td>Healthy            </td><td>Patient           </td></tr>\n",
       "<tr><td>Recall       </td><td>0.44919786096256686</td><td>0.9386590584878745</td></tr>\n",
       "<tr><td>Precision    </td><td>0.7962085308056872 </td><td>0.7615740740740741</td></tr>\n",
       "<tr><td>F1-Score     </td><td>0.5743589743589743 </td><td>0.8408945686900958</td></tr>\n",
       "<tr><td>Accuracy     </td><td>0.7683720930232558 </td><td>                  </td></tr>\n",
       "</tbody>\n",
       "</table>"
      ],
      "text/plain": [
       "<IPython.core.display.HTML object>"
      ]
     },
     "metadata": {},
     "output_type": "display_data"
    }
   ],
   "source": [
    "cm_r, recall_r, precision_r, f1_r = calculate_cm_recall_precision(predicted_test_labels_r, y_test)\n",
    "# plt.matshow(cm)\n",
    "\n",
    "acc_r = accuracy_score(predicted_test_labels_r, y_test)\n",
    "# print(acc_r)\n",
    "\n",
    "labels = ['Healthy', 'Patient']\n",
    "fig = plt.figure()\n",
    "ax = fig.add_subplot(111)\n",
    "cax = ax.matshow(cm_r)\n",
    "plt.title('Confusion matrix of Random Forest Classifier')\n",
    "fig.colorbar(cax)\n",
    "ax.set_xticklabels([''] + labels)\n",
    "ax.set_yticklabels([''] + labels)\n",
    "plt.xlabel('Predicted')\n",
    "plt.ylabel('True')\n",
    "plt.show()\n",
    "\n",
    "answer_r = [['Random Forest'],\n",
    "                  [\"Metric\", \"Healthy\", \"Patient\"],\n",
    "                  [\"Recall\", recall_r[0], recall_r[1]],\n",
    "                  [\"Precision\", precision_r[0], precision_r[1]],\n",
    "                  [\"F1-Score\", f1_r[0], f1_r[1]],\n",
    "                [\"Accuracy\", acc_r],\n",
    "                 ]\n",
    "\n",
    "display(HTML(tabulate.tabulate(answer_r, tablefmt='html')))\n",
    "\n",
    "# print(\"cm\", cm_r, \"\\nrecall\", recall_r, \"\\nprecision\", precision_r, \"\\nf1:\", f1_r)\n",
    "# print(\"meanf1:\", np.mean(f1_r))"
   ]
  },
  {
   "cell_type": "code",
   "execution_count": null,
   "metadata": {},
   "outputs": [],
   "source": []
  }
 ],
 "metadata": {
  "kernelspec": {
   "display_name": "Python 3",
   "language": "python",
   "name": "python3"
  },
  "language_info": {
   "codemirror_mode": {
    "name": "ipython",
    "version": 3
   },
   "file_extension": ".py",
   "mimetype": "text/x-python",
   "name": "python",
   "nbconvert_exporter": "python",
   "pygments_lexer": "ipython3",
   "version": "3.7.0"
  }
 },
 "nbformat": 4,
 "nbformat_minor": 4
}

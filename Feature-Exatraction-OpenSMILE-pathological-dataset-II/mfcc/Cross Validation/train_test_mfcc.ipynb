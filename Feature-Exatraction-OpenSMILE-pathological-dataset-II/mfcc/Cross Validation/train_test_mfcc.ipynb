{
 "cells": [
  {
   "cell_type": "code",
   "execution_count": 10,
   "metadata": {},
   "outputs": [],
   "source": [
    "import numpy as np\n",
    "import pandas as pd\n",
    "import csv\n",
    "from IPython.display import HTML, display\n",
    "import tabulate\n",
    "from sklearn.metrics import confusion_matrix\n",
    "from sklearn.metrics import recall_score\n",
    "from sklearn.metrics import precision_score\n",
    "from sklearn.metrics import f1_score"
   ]
  },
  {
   "cell_type": "code",
   "execution_count": 11,
   "metadata": {},
   "outputs": [],
   "source": [
    "def readData():    \n",
    "    patientdata = pd.read_csv('../mfcc_features_patient.csv', delimiter=' ')\n",
    "    healthydata = pd.read_csv('../mfcc_features_healthy.csv', delimiter=' ')\n",
    "    \n",
    "    return patientdata, healthydata"
   ]
  },
  {
   "cell_type": "code",
   "execution_count": 20,
   "metadata": {},
   "outputs": [],
   "source": [
    "def createSamplesAndLabels(patient_df, healthy_df):\n",
    "    print(len(healthy_df), len(patient_df))\n",
    "    listofzeros = [0] * len(healthy_df)\n",
    "    listofones = [1] * len(patient_df)\n",
    "    \n",
    "    patient_df['Label'] = listofones\n",
    "    healthy_df['Label'] = listofzeros\n",
    "\n",
    "    patient_samples = patient_df.to_numpy()\n",
    "    healthy_samples = healthy_df.to_numpy()\n",
    "\n",
    "    samples = np.vstack((patient_samples, healthy_samples))\n",
    "#     print(samples[0], '\\n', samples[120])\n",
    "    np.random.shuffle(samples)\n",
    "\n",
    "    # actual label of frame 1-patient; 0-healthy\n",
    "    labels = samples[:,-1]\n",
    "    labels = labels.astype(int)\n",
    "    samples = np.delete(samples, -1, 1)\n",
    "    \n",
    "    # audio number to which the frame belongs\n",
    "    # audio number: first digit represents healthy(0)/patient(1) - rest of the digits \n",
    "    # represent the audio number in each of healthy and patient\n",
    "    audio_num = samples[:,-1]\n",
    "    audio_num = audio_num.astype(int)\n",
    "    samples = np.delete(samples, -1, 1)\n",
    "#     print(len(samples), len(labels))\n",
    "\n",
    "    return samples, labels, audio_num"
   ]
  },
  {
   "cell_type": "code",
   "execution_count": 13,
   "metadata": {},
   "outputs": [],
   "source": [
    "from sklearn.svm import SVC\n",
    "\n",
    "def svm(training_samples, training_labels, test_samples):\n",
    "    clf = SVC(kernel=\"linear\")\n",
    "    clf.fit(training_samples, training_labels)\n",
    "    print(\"Training complete\\n\")\n",
    "    return clf.predict(test_samples)"
   ]
  },
  {
   "cell_type": "code",
   "execution_count": 14,
   "metadata": {},
   "outputs": [],
   "source": [
    "from sklearn.cluster import KMeans\n",
    "\n",
    "def kMeans(training_samples, training_labels, test_samples):\n",
    "    kmeans = KMeans(n_clusters=2, random_state=0)\n",
    "    kmeans.fit(training_samples, training_labels)\n",
    "    return kmeans.predict(test_samples)"
   ]
  },
  {
   "cell_type": "code",
   "execution_count": 15,
   "metadata": {},
   "outputs": [],
   "source": [
    "from sklearn.ensemble import RandomForestClassifier\n",
    "\n",
    "def rf(training_samples, training_labels, test_samples):\n",
    "    clf = RandomForestClassifier(random_state=1, n_estimators=300)\n",
    "    clf.fit(training_samples, training_labels)\n",
    "    return clf.predict(test_samples)"
   ]
  },
  {
   "cell_type": "code",
   "execution_count": 16,
   "metadata": {},
   "outputs": [],
   "source": [
    "def calculate_cm_recall_precision(testlabels, y_true):\n",
    "    y_pred = list(testlabels)\n",
    "    labels = [0, 1]\n",
    "    recall = recall_score(y_true, y_pred, labels, average=None)\n",
    "    precision = precision_score(y_true, y_pred,labels, average=None)\n",
    "    f1 = f1_score(y_true, y_pred,labels, average=None)\n",
    "    return confusion_matrix(y_true, y_pred), recall, precision, f1;"
   ]
  },
  {
   "cell_type": "code",
   "execution_count": 19,
   "metadata": {},
   "outputs": [
    {
     "name": "stdout",
     "output_type": "stream",
     "text": [
      "55933 144655\n"
     ]
    }
   ],
   "source": [
    "patient_df, healthy_df = readData();\n",
    "samples, labels, audio_num = createSamplesAndLabels(patient_df, healthy_df)"
   ]
  },
  {
   "cell_type": "code",
   "execution_count": 15,
   "metadata": {},
   "outputs": [
    {
     "name": "stdout",
     "output_type": "stream",
     "text": [
      "<class 'numpy.ndarray'> <class 'numpy.float64'>\n"
     ]
    }
   ],
   "source": [
    "samples = samples.astype(np.float)\n",
    "labels = labels.astype(np.float)\n",
    "# print(type(samples), type(samples[0][0]))"
   ]
  },
  {
   "cell_type": "code",
   "execution_count": 17,
   "metadata": {},
   "outputs": [],
   "source": [
    "from sklearn.model_selection import train_test_split\n",
    "X_train, X_test, y_train, y_test = train_test_split(samples, labels, test_size=0.33) # reduce sample...\n",
    "# ...size as mentioned in next line:\n",
    "# train_test_split(samples[0:2000], labels[0:2000], test_size=0.33)"
   ]
  },
  {
   "cell_type": "code",
   "execution_count": null,
   "metadata": {},
   "outputs": [],
   "source": [
    "predicted_test_labels = svm(X_train, y_train, X_test)"
   ]
  },
  {
   "cell_type": "code",
   "execution_count": null,
   "metadata": {},
   "outputs": [],
   "source": [
    "cm, recall, precision, f1 = calculate_cm_recall_precision(predicted_test_labels, y_test)\n",
    "print(\"cm\", cm, \"\\nrecall\", recall, \"\\nprecision\", precision, \"\\nf1:\", f1)\n",
    "print(\"meanf1:\", np.mean(f1))"
   ]
  },
  {
   "cell_type": "code",
   "execution_count": null,
   "metadata": {},
   "outputs": [],
   "source": []
  },
  {
   "cell_type": "code",
   "execution_count": null,
   "metadata": {},
   "outputs": [],
   "source": []
  }
 ],
 "metadata": {
  "kernelspec": {
   "display_name": "Python 3",
   "language": "python",
   "name": "python3"
  },
  "language_info": {
   "codemirror_mode": {
    "name": "ipython",
    "version": 3
   },
   "file_extension": ".py",
   "mimetype": "text/x-python",
   "name": "python",
   "nbconvert_exporter": "python",
   "pygments_lexer": "ipython3",
   "version": "3.7.0"
  }
 },
 "nbformat": 4,
 "nbformat_minor": 4
}

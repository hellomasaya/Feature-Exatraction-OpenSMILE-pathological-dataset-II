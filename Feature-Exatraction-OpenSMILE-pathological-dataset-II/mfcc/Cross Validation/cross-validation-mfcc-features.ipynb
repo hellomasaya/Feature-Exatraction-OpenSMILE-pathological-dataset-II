{
 "cells": [
  {
   "cell_type": "code",
   "execution_count": 17,
   "metadata": {},
   "outputs": [],
   "source": [
    "import numpy as np\n",
    "import pandas as pd\n",
    "import csv\n",
    "from IPython.display import HTML, display\n",
    "import tabulate\n",
    "from sklearn.metrics import confusion_matrix\n",
    "from sklearn.metrics import recall_score\n",
    "from sklearn.metrics import precision_score\n",
    "from sklearn.metrics import f1_score"
   ]
  },
  {
   "cell_type": "code",
   "execution_count": 18,
   "metadata": {},
   "outputs": [],
   "source": [
    "def readData():    \n",
    "    patientdata = pd.read_csv('../mfcc_features_patient.csv', delimiter=' ')\n",
    "    healthydata = pd.read_csv('../mfcc_features_healthy.csv', delimiter=' ')\n",
    "    \n",
    "    return patientdata, healthydata"
   ]
  },
  {
   "cell_type": "code",
   "execution_count": 26,
   "metadata": {},
   "outputs": [],
   "source": [
    "def createSamplesAndLabels(patient_df, healthy_df):\n",
    "    print(len(healthy_df), len(patient_df))\n",
    "    listofzeros = [0] * len(healthy_df)\n",
    "    listofones = [1] * len(patient_df)\n",
    "\n",
    "    patient_df['Label'] = listofones\n",
    "    healthy_df['Label'] = listofzeros\n",
    "\n",
    "    patient_samples = patient_df.to_numpy()\n",
    "    healthy_samples = healthy_df.to_numpy()\n",
    "\n",
    "    samples = np.vstack((patient_samples, healthy_samples))\n",
    "#     print(samples[0])\n",
    "    np.random.shuffle(samples)\n",
    "\n",
    "    labels = samples[:,-1]\n",
    "    labels = labels.astype(int)\n",
    "    \n",
    "    samples = np.delete(samples, -1, 1)\n",
    "#     print(len(samples), len(labels))\n",
    "\n",
    "    return samples, labels"
   ]
  },
  {
   "cell_type": "code",
   "execution_count": 27,
   "metadata": {},
   "outputs": [],
   "source": [
    "from sklearn.svm import SVC\n",
    "\n",
    "def svm(training_samples, training_labels, test_samples):\n",
    "    clf = SVC(kernel=\"linear\")\n",
    "    clf.fit(training_samples, training_labels)\n",
    "    return clf.predict(test_samples)"
   ]
  },
  {
   "cell_type": "code",
   "execution_count": 28,
   "metadata": {},
   "outputs": [],
   "source": [
    "from sklearn.cluster import KMeans\n",
    "\n",
    "def kMeans(training_samples, training_labels, test_samples):\n",
    "    kmeans = KMeans(n_clusters=2, random_state=0)\n",
    "    kmeans.fit(training_samples, training_labels)\n",
    "    return kmeans.predict(test_samples)"
   ]
  },
  {
   "cell_type": "code",
   "execution_count": 29,
   "metadata": {},
   "outputs": [],
   "source": [
    "from sklearn.ensemble import RandomForestClassifier\n",
    "\n",
    "def rf(training_samples, training_labels, test_samples):\n",
    "    clf = RandomForestClassifier(random_state=1, n_estimators=300)\n",
    "    clf.fit(training_samples, training_labels)\n",
    "    return clf.predict(test_samples)"
   ]
  },
  {
   "cell_type": "code",
   "execution_count": 30,
   "metadata": {},
   "outputs": [],
   "source": [
    "def calculate_cm_recall_precision(testlabels, y_true):\n",
    "    y_pred = list(testlabels)\n",
    "    labels = [0, 1]\n",
    "    recall = recall_score(y_true, y_pred, labels, average=None)\n",
    "    precision = precision_score(y_true, y_pred,labels, average=None)\n",
    "    f1 = f1_score(y_true, y_pred,labels, average=None)\n",
    "    return confusion_matrix(y_true, y_pred), recall, precision, f1;"
   ]
  },
  {
   "cell_type": "code",
   "execution_count": 36,
   "metadata": {},
   "outputs": [],
   "source": [
    "from sklearn.model_selection import StratifiedKFold\n",
    "\n",
    "def kFoldCrossValidation(n, X, y, model):\n",
    "    skf = StratifiedKFold(n_splits=n, shuffle=True)\n",
    "    for train_index, test_index in skf.split(X, y):\n",
    "        X_train, X_test = X[train_index], X[test_index]\n",
    "        y_train, y_test = y[train_index], y[test_index]\n",
    "        \n",
    "#         print(\"Predicting labels:\\n\")\n",
    "        if(model == \"SVM\"):\n",
    "            predicted_test_labels = svm(X_train, y_train, X_test)\n",
    "        elif(model == \"kMeans\"):\n",
    "            predicted_test_labels = kMeans(X_train, y_train, X_test)\n",
    "        elif(model == \"RandomForestClassifier\"):\n",
    "            predicted_test_labels = rf(X_train, y_train, X_test)\n",
    "        \n",
    "#         print(\"Calculating scores:\\n\")\n",
    "        cm, recall, precision, f1 = calculate_cm_recall_precision(predicted_test_labels, y_test)\n",
    "        answer = [[model],\n",
    "                  [\"Metric\", \"Healthy\", \"Patient\"],\n",
    "                  [\"Recall\", recall[0], recall[1]],\n",
    "                  [\"Precision\", precision[0], precision[1]],\n",
    "                  [\"F1-Score\", f1[0], f1[1]],\n",
    "                 ]\n",
    "\n",
    "        display(HTML(tabulate.tabulate(answer, tablefmt='html')))"
   ]
  },
  {
   "cell_type": "code",
   "execution_count": 37,
   "metadata": {},
   "outputs": [
    {
     "name": "stdout",
     "output_type": "stream",
     "text": [
      "1083 2173\n"
     ]
    }
   ],
   "source": [
    "patient_df, healthy_df = readData();\n",
    "samples, labels = createSamplesAndLabels(patient_df, healthy_df)"
   ]
  },
  {
   "cell_type": "code",
   "execution_count": 38,
   "metadata": {},
   "outputs": [
    {
     "name": "stdout",
     "output_type": "stream",
     "text": [
      "<class 'numpy.ndarray'> <class 'numpy.float64'>\n"
     ]
    }
   ],
   "source": [
    "samples = samples.astype(np.float)\n",
    "labels = labels.astype(np.float)\n",
    "print(type(samples), type(samples[0][0]))"
   ]
  },
  {
   "cell_type": "code",
   "execution_count": 39,
   "metadata": {},
   "outputs": [
    {
     "data": {
      "text/html": [
       "<table>\n",
       "<tbody>\n",
       "<tr><td>SVM      </td><td>                  </td><td>                  </td></tr>\n",
       "<tr><td>Metric   </td><td>Healthy           </td><td>Patient           </td></tr>\n",
       "<tr><td>Recall   </td><td>0.5345622119815668</td><td>0.8827586206896552</td></tr>\n",
       "<tr><td>Precision</td><td>0.6946107784431138</td><td>0.7917525773195876</td></tr>\n",
       "<tr><td>F1-Score </td><td>0.6041666666666666</td><td>0.8347826086956521</td></tr>\n",
       "</tbody>\n",
       "</table>"
      ],
      "text/plain": [
       "<IPython.core.display.HTML object>"
      ]
     },
     "metadata": {},
     "output_type": "display_data"
    },
    {
     "data": {
      "text/html": [
       "<table>\n",
       "<tbody>\n",
       "<tr><td>SVM      </td><td>                  </td><td>                  </td></tr>\n",
       "<tr><td>Metric   </td><td>Healthy           </td><td>Patient           </td></tr>\n",
       "<tr><td>Recall   </td><td>0.576036866359447 </td><td>0.8827586206896552</td></tr>\n",
       "<tr><td>Precision</td><td>0.7102272727272727</td><td>0.8067226890756303</td></tr>\n",
       "<tr><td>F1-Score </td><td>0.6361323155216285</td><td>0.8430296377607025</td></tr>\n",
       "</tbody>\n",
       "</table>"
      ],
      "text/plain": [
       "<IPython.core.display.HTML object>"
      ]
     },
     "metadata": {},
     "output_type": "display_data"
    },
    {
     "data": {
      "text/html": [
       "<table>\n",
       "<tbody>\n",
       "<tr><td>SVM      </td><td>                  </td><td>                  </td></tr>\n",
       "<tr><td>Metric   </td><td>Healthy           </td><td>Patient           </td></tr>\n",
       "<tr><td>Recall   </td><td>0.5622119815668203</td><td>0.896551724137931 </td></tr>\n",
       "<tr><td>Precision</td><td>0.7305389221556886</td><td>0.8041237113402062</td></tr>\n",
       "<tr><td>F1-Score </td><td>0.6354166666666667</td><td>0.8478260869565218</td></tr>\n",
       "</tbody>\n",
       "</table>"
      ],
      "text/plain": [
       "<IPython.core.display.HTML object>"
      ]
     },
     "metadata": {},
     "output_type": "display_data"
    },
    {
     "data": {
      "text/html": [
       "<table>\n",
       "<tbody>\n",
       "<tr><td>SVM      </td><td>                  </td><td>                  </td></tr>\n",
       "<tr><td>Metric   </td><td>Healthy           </td><td>Patient           </td></tr>\n",
       "<tr><td>Recall   </td><td>0.5               </td><td>0.8732718894009217</td></tr>\n",
       "<tr><td>Precision</td><td>0.6625766871165644</td><td>0.7782340862422998</td></tr>\n",
       "<tr><td>F1-Score </td><td>0.5699208443271767</td><td>0.8230184581976113</td></tr>\n",
       "</tbody>\n",
       "</table>"
      ],
      "text/plain": [
       "<IPython.core.display.HTML object>"
      ]
     },
     "metadata": {},
     "output_type": "display_data"
    },
    {
     "data": {
      "text/html": [
       "<table>\n",
       "<tbody>\n",
       "<tr><td>SVM      </td><td>                  </td><td>                  </td></tr>\n",
       "<tr><td>Metric   </td><td>Healthy           </td><td>Patient           </td></tr>\n",
       "<tr><td>Recall   </td><td>0.6111111111111112</td><td>0.868663594470046 </td></tr>\n",
       "<tr><td>Precision</td><td>0.6984126984126984</td><td>0.8177874186550976</td></tr>\n",
       "<tr><td>F1-Score </td><td>0.6518518518518519</td><td>0.8424581005586592</td></tr>\n",
       "</tbody>\n",
       "</table>"
      ],
      "text/plain": [
       "<IPython.core.display.HTML object>"
      ]
     },
     "metadata": {},
     "output_type": "display_data"
    }
   ],
   "source": [
    "kFoldCrossValidation(5, samples, labels, \"SVM\")"
   ]
  },
  {
   "cell_type": "code",
   "execution_count": 40,
   "metadata": {},
   "outputs": [
    {
     "data": {
      "text/html": [
       "<table>\n",
       "<tbody>\n",
       "<tr><td>kMeans   </td><td>                  </td><td>                  </td></tr>\n",
       "<tr><td>Metric   </td><td>Healthy           </td><td>Patient           </td></tr>\n",
       "<tr><td>Recall   </td><td>0.7596899224806202</td><td>0.6309963099630996</td></tr>\n",
       "<tr><td>Precision</td><td>0.494949494949495 </td><td>0.8465346534653465</td></tr>\n",
       "<tr><td>F1-Score </td><td>0.599388379204893 </td><td>0.7230443974630021</td></tr>\n",
       "</tbody>\n",
       "</table>"
      ],
      "text/plain": [
       "<IPython.core.display.HTML object>"
      ]
     },
     "metadata": {},
     "output_type": "display_data"
    },
    {
     "data": {
      "text/html": [
       "<table>\n",
       "<tbody>\n",
       "<tr><td>kMeans   </td><td>                  </td><td>                  </td></tr>\n",
       "<tr><td>Metric   </td><td>Healthy           </td><td>Patient           </td></tr>\n",
       "<tr><td>Recall   </td><td>0.7751937984496124</td><td>0.6125461254612546</td></tr>\n",
       "<tr><td>Precision</td><td>0.4878048780487805</td><td>0.8512820512820513</td></tr>\n",
       "<tr><td>F1-Score </td><td>0.5988023952095809</td><td>0.7124463519313305</td></tr>\n",
       "</tbody>\n",
       "</table>"
      ],
      "text/plain": [
       "<IPython.core.display.HTML object>"
      ]
     },
     "metadata": {},
     "output_type": "display_data"
    },
    {
     "data": {
      "text/html": [
       "<table>\n",
       "<tbody>\n",
       "<tr><td>kMeans   </td><td>                  </td><td>                  </td></tr>\n",
       "<tr><td>Metric   </td><td>Healthy           </td><td>Patient           </td></tr>\n",
       "<tr><td>Recall   </td><td>0.7906976744186046</td><td>0.6051660516605166</td></tr>\n",
       "<tr><td>Precision</td><td>0.4880382775119617</td><td>0.8586387434554974</td></tr>\n",
       "<tr><td>F1-Score </td><td>0.6035502958579881</td><td>0.7099567099567099</td></tr>\n",
       "</tbody>\n",
       "</table>"
      ],
      "text/plain": [
       "<IPython.core.display.HTML object>"
      ]
     },
     "metadata": {},
     "output_type": "display_data"
    },
    {
     "data": {
      "text/html": [
       "<table>\n",
       "<tbody>\n",
       "<tr><td>kMeans   </td><td>                   </td><td>                  </td></tr>\n",
       "<tr><td>Metric   </td><td>Healthy            </td><td>Patient           </td></tr>\n",
       "<tr><td>Recall   </td><td>0.689922480620155  </td><td>0.6273062730627307</td></tr>\n",
       "<tr><td>Precision</td><td>0.46842105263157896</td><td>0.8095238095238095</td></tr>\n",
       "<tr><td>F1-Score </td><td>0.5579937304075235 </td><td>0.7068607068607068</td></tr>\n",
       "</tbody>\n",
       "</table>"
      ],
      "text/plain": [
       "<IPython.core.display.HTML object>"
      ]
     },
     "metadata": {},
     "output_type": "display_data"
    },
    {
     "data": {
      "text/html": [
       "<table>\n",
       "<tbody>\n",
       "<tr><td>kMeans   </td><td>                  </td><td>                  </td></tr>\n",
       "<tr><td>Metric   </td><td>Healthy           </td><td>Patient           </td></tr>\n",
       "<tr><td>Recall   </td><td>0.7829457364341085</td><td>0.6531365313653137</td></tr>\n",
       "<tr><td>Precision</td><td>0.517948717948718 </td><td>0.8634146341463415</td></tr>\n",
       "<tr><td>F1-Score </td><td>0.6234567901234569</td><td>0.7436974789915966</td></tr>\n",
       "</tbody>\n",
       "</table>"
      ],
      "text/plain": [
       "<IPython.core.display.HTML object>"
      ]
     },
     "metadata": {},
     "output_type": "display_data"
    }
   ],
   "source": [
    "kFoldCrossValidation(5, samples[0:2000], labels[0:2000], \"kMeans\")"
   ]
  },
  {
   "cell_type": "code",
   "execution_count": 41,
   "metadata": {},
   "outputs": [
    {
     "data": {
      "text/html": [
       "<table>\n",
       "<tbody>\n",
       "<tr><td>RandomForestClassifier</td><td>                  </td><td>                  </td></tr>\n",
       "<tr><td>Metric                </td><td>Healthy           </td><td>Patient           </td></tr>\n",
       "<tr><td>Recall                </td><td>0.4186046511627907</td><td>0.959409594095941 </td></tr>\n",
       "<tr><td>Precision             </td><td>0.8307692307692308</td><td>0.7761194029850746</td></tr>\n",
       "<tr><td>F1-Score              </td><td>0.5567010309278351</td><td>0.8580858085808581</td></tr>\n",
       "</tbody>\n",
       "</table>"
      ],
      "text/plain": [
       "<IPython.core.display.HTML object>"
      ]
     },
     "metadata": {},
     "output_type": "display_data"
    },
    {
     "data": {
      "text/html": [
       "<table>\n",
       "<tbody>\n",
       "<tr><td>RandomForestClassifier</td><td>                   </td><td>                  </td></tr>\n",
       "<tr><td>Metric                </td><td>Healthy            </td><td>Patient           </td></tr>\n",
       "<tr><td>Recall                </td><td>0.43410852713178294</td><td>0.966789667896679 </td></tr>\n",
       "<tr><td>Precision             </td><td>0.8615384615384616 </td><td>0.7820895522388059</td></tr>\n",
       "<tr><td>F1-Score              </td><td>0.577319587628866  </td><td>0.8646864686468646</td></tr>\n",
       "</tbody>\n",
       "</table>"
      ],
      "text/plain": [
       "<IPython.core.display.HTML object>"
      ]
     },
     "metadata": {},
     "output_type": "display_data"
    },
    {
     "data": {
      "text/html": [
       "<table>\n",
       "<tbody>\n",
       "<tr><td>RandomForestClassifier</td><td>                  </td><td>                  </td></tr>\n",
       "<tr><td>Metric                </td><td>Healthy           </td><td>Patient           </td></tr>\n",
       "<tr><td>Recall                </td><td>0.3875968992248062</td><td>0.955719557195572 </td></tr>\n",
       "<tr><td>Precision             </td><td>0.8064516129032258</td><td>0.7662721893491125</td></tr>\n",
       "<tr><td>F1-Score              </td><td>0.5235602094240838</td><td>0.8505747126436782</td></tr>\n",
       "</tbody>\n",
       "</table>"
      ],
      "text/plain": [
       "<IPython.core.display.HTML object>"
      ]
     },
     "metadata": {},
     "output_type": "display_data"
    },
    {
     "data": {
      "text/html": [
       "<table>\n",
       "<tbody>\n",
       "<tr><td>RandomForestClassifier</td><td>                  </td><td>                  </td></tr>\n",
       "<tr><td>Metric                </td><td>Healthy           </td><td>Patient           </td></tr>\n",
       "<tr><td>Recall                </td><td>0.4186046511627907</td><td>0.966789667896679 </td></tr>\n",
       "<tr><td>Precision             </td><td>0.8571428571428571</td><td>0.7774480712166172</td></tr>\n",
       "<tr><td>F1-Score              </td><td>0.5625000000000001</td><td>0.8618421052631579</td></tr>\n",
       "</tbody>\n",
       "</table>"
      ],
      "text/plain": [
       "<IPython.core.display.HTML object>"
      ]
     },
     "metadata": {},
     "output_type": "display_data"
    },
    {
     "data": {
      "text/html": [
       "<table>\n",
       "<tbody>\n",
       "<tr><td>RandomForestClassifier</td><td>                  </td><td>                  </td></tr>\n",
       "<tr><td>Metric                </td><td>Healthy           </td><td>Patient           </td></tr>\n",
       "<tr><td>Recall                </td><td>0.4108527131782946</td><td>0.915129151291513 </td></tr>\n",
       "<tr><td>Precision             </td><td>0.6973684210526315</td><td>0.7654320987654321</td></tr>\n",
       "<tr><td>F1-Score              </td><td>0.5170731707317073</td><td>0.8336134453781513</td></tr>\n",
       "</tbody>\n",
       "</table>"
      ],
      "text/plain": [
       "<IPython.core.display.HTML object>"
      ]
     },
     "metadata": {},
     "output_type": "display_data"
    }
   ],
   "source": [
    "kFoldCrossValidation(5, samples[0:2000], labels[0:2000], \"RandomForestClassifier\")"
   ]
  },
  {
   "cell_type": "code",
   "execution_count": null,
   "metadata": {},
   "outputs": [],
   "source": []
  }
 ],
 "metadata": {
  "kernelspec": {
   "display_name": "Python 3",
   "language": "python",
   "name": "python3"
  },
  "language_info": {
   "codemirror_mode": {
    "name": "ipython",
    "version": 3
   },
   "file_extension": ".py",
   "mimetype": "text/x-python",
   "name": "python",
   "nbconvert_exporter": "python",
   "pygments_lexer": "ipython3",
   "version": "3.7.0"
  }
 },
 "nbformat": 4,
 "nbformat_minor": 4
}

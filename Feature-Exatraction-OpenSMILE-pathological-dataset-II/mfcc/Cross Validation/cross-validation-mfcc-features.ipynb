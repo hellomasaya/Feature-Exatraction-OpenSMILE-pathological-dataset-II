{
 "cells": [
  {
   "cell_type": "code",
   "execution_count": 1,
   "metadata": {},
   "outputs": [],
   "source": [
    "import numpy as np\n",
    "import pandas as pd\n",
    "import csv\n",
    "from IPython.display import HTML, display\n",
    "import tabulate\n",
    "from sklearn.metrics import confusion_matrix\n",
    "from sklearn.metrics import recall_score\n",
    "from sklearn.metrics import precision_score\n",
    "from sklearn.metrics import f1_score"
   ]
  },
  {
   "cell_type": "code",
   "execution_count": 2,
   "metadata": {},
   "outputs": [],
   "source": [
    "def readData():    \n",
    "    patientdata = pd.read_csv('../mfcc_features_patient.csv', delimiter=' ')\n",
    "    healthydata = pd.read_csv('../mfcc_features_healthy.csv', delimiter=' ')\n",
    "    \n",
    "    return patientdata, healthydata"
   ]
  },
  {
   "cell_type": "code",
   "execution_count": 3,
   "metadata": {},
   "outputs": [],
   "source": [
    "def createSamplesAndLabels(patient_df, healthy_df):\n",
    "    print(len(healthy_df), len(patient_df))\n",
    "    listofzeros = [0] * len(healthy_df)\n",
    "    listofones = [1] * len(patient_df)\n",
    "\n",
    "    patient_df['Label'] = listofones\n",
    "    healthy_df['Label'] = listofzeros\n",
    "\n",
    "    patient_samples = patient_df.to_numpy()\n",
    "    healthy_samples = healthy_df.to_numpy()\n",
    "\n",
    "    samples = np.vstack((patient_samples, healthy_samples))\n",
    "    \n",
    "    np.random.shuffle(samples)\n",
    "\n",
    "    labels = samples[:,-1]\n",
    "    labels = labels.astype(int)\n",
    "    \n",
    "    samples = np.delete(samples, -1, 1)\n",
    "    print(len(samples), len(labels))\n",
    "\n",
    "    return samples, labels"
   ]
  },
  {
   "cell_type": "code",
   "execution_count": 4,
   "metadata": {},
   "outputs": [],
   "source": [
    "from sklearn.svm import SVC\n",
    "\n",
    "def svm(training_samples, training_labels, test_samples):\n",
    "    clf = SVC(kernel=\"linear\")\n",
    "    clf.fit(training_samples, training_labels)\n",
    "    return clf.predict(test_samples)"
   ]
  },
  {
   "cell_type": "code",
   "execution_count": 5,
   "metadata": {},
   "outputs": [],
   "source": [
    "from sklearn.cluster import KMeans\n",
    "\n",
    "def kMeans(training_samples, training_labels, test_samples):\n",
    "    kmeans = KMeans(n_clusters=2, random_state=0)\n",
    "    kmeans.fit(training_samples, training_labels)\n",
    "    return kmeans.predict(test_samples)"
   ]
  },
  {
   "cell_type": "code",
   "execution_count": 6,
   "metadata": {},
   "outputs": [],
   "source": [
    "from sklearn.ensemble import RandomForestClassifier\n",
    "\n",
    "def rf(training_samples, training_labels, test_samples):\n",
    "    clf = RandomForestClassifier(random_state=1, n_estimators=300)\n",
    "    clf.fit(training_samples, training_labels)\n",
    "    return clf.predict(test_samples)"
   ]
  },
  {
   "cell_type": "code",
   "execution_count": 7,
   "metadata": {},
   "outputs": [],
   "source": [
    "def calculate_cm_recall_precision(testlabels, y_true):\n",
    "    y_pred = list(testlabels)\n",
    "    labels = [0, 1]\n",
    "    recall = recall_score(y_true, y_pred, labels, average=None)\n",
    "    precision = precision_score(y_true, y_pred,labels, average=None)\n",
    "    f1 = f1_score(y_true, y_pred,labels, average=None)\n",
    "    return confusion_matrix(y_true, y_pred), recall, precision, f1;"
   ]
  },
  {
   "cell_type": "code",
   "execution_count": 8,
   "metadata": {},
   "outputs": [],
   "source": [
    "from sklearn.model_selection import StratifiedKFold\n",
    "\n",
    "def kFoldCrossValidation(n, X, y, model):\n",
    "    skf = StratifiedKFold(n_splits=n, shuffle=True)\n",
    "    for train_index, test_index in skf.split(X, y):\n",
    "        X_train, X_test = X[train_index], X[test_index]\n",
    "        y_train, y_test = y[train_index], y[test_index]\n",
    "        \n",
    "        print(\"Predicting labels:\\n\")\n",
    "        if(model == \"SVM\"):\n",
    "            predicted_test_labels = svm(X_train, y_train, X_test)\n",
    "        elif(model == \"kMeans\"):\n",
    "            predicted_test_labels = kMeans(X_train, y_train, X_test)\n",
    "        elif(model == \"RandomForestClassifier\"):\n",
    "            predicted_test_labels = rf(X_train, y_train, X_test)\n",
    "        \n",
    "        print(\"Calculating scores:\\n\")\n",
    "        cm, recall, precision, f1 = calculate_cm_recall_precision(predicted_test_labels, y_test)\n",
    "        answer = [[model],\n",
    "                  [\"Metric\", \"Healthy\", \"Patient\"],\n",
    "                  [\"Recall\", recall[0], recall[1]],\n",
    "                  [\"Precision\", precision[0], precision[1]],\n",
    "                  [\"F1-Score\", f1[0], f1[1]],\n",
    "                 ]\n",
    "\n",
    "        display(HTML(tabulate.tabulate(answer, tablefmt='html')))"
   ]
  },
  {
   "cell_type": "code",
   "execution_count": 9,
   "metadata": {},
   "outputs": [
    {
     "name": "stdout",
     "output_type": "stream",
     "text": [
      "55932 144654\n",
      "200586 200586\n"
     ]
    }
   ],
   "source": [
    "patient_df, healthy_df = readData();\n",
    "samples, labels = createSamplesAndLabels(patient_df, healthy_df)"
   ]
  },
  {
   "cell_type": "code",
   "execution_count": 10,
   "metadata": {},
   "outputs": [
    {
     "name": "stdout",
     "output_type": "stream",
     "text": [
      "<class 'numpy.ndarray'> <class 'numpy.float64'>\n"
     ]
    }
   ],
   "source": [
    "samples = samples.astype(np.float)\n",
    "labels = labels.astype(np.float)\n",
    "print(type(samples), type(samples[0][0]))"
   ]
  },
  {
   "cell_type": "code",
   "execution_count": null,
   "metadata": {},
   "outputs": [
    {
     "name": "stdout",
     "output_type": "stream",
     "text": [
      "Predicting labels:\n",
      "\n"
     ]
    }
   ],
   "source": [
    "kFoldCrossValidation(5, samples, labels, \"SVM\")"
   ]
  },
  {
   "cell_type": "code",
   "execution_count": null,
   "metadata": {},
   "outputs": [],
   "source": [
    "kFoldCrossValidation(5, samples, labels, \"kMeans\")"
   ]
  },
  {
   "cell_type": "code",
   "execution_count": null,
   "metadata": {},
   "outputs": [],
   "source": [
    "kFoldCrossValidation(5, samples, labels, \"RandomForestClassifier\")"
   ]
  },
  {
   "cell_type": "code",
   "execution_count": null,
   "metadata": {},
   "outputs": [],
   "source": []
  }
 ],
 "metadata": {
  "kernelspec": {
   "display_name": "Python 3",
   "language": "python",
   "name": "python3"
  },
  "language_info": {
   "codemirror_mode": {
    "name": "ipython",
    "version": 3
   },
   "file_extension": ".py",
   "mimetype": "text/x-python",
   "name": "python",
   "nbconvert_exporter": "python",
   "pygments_lexer": "ipython3",
   "version": "3.7.0"
  }
 },
 "nbformat": 4,
 "nbformat_minor": 4
}

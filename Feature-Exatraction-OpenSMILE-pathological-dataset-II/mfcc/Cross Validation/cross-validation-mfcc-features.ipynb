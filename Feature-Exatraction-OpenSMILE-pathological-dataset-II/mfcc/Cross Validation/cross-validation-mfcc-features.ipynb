{
 "cells": [
  {
   "cell_type": "code",
   "execution_count": 1,
   "metadata": {},
   "outputs": [],
   "source": [
    "import numpy as np\n",
    "import pandas as pd\n",
    "import csv\n",
    "from IPython.display import HTML, display\n",
    "import tabulate\n",
    "from sklearn.metrics import confusion_matrix\n",
    "from sklearn.metrics import recall_score\n",
    "from sklearn.metrics import precision_score\n",
    "from sklearn.metrics import f1_score"
   ]
  },
  {
   "cell_type": "code",
   "execution_count": 2,
   "metadata": {},
   "outputs": [],
   "source": [
    "def readData():    \n",
    "    patientdata = pd.read_csv('../mfcc_features_patient.csv', delimiter=' ')\n",
    "    healthydata = pd.read_csv('../mfcc_features_healthy.csv', delimiter=' ')\n",
    "    \n",
    "    return patientdata, healthydata"
   ]
  },
  {
   "cell_type": "code",
   "execution_count": 10,
   "metadata": {},
   "outputs": [],
   "source": [
    "def createSamplesAndLabels(patient_df, healthy_df):\n",
    "    print(len(healthy_df), len(patient_df))\n",
    "    listofzeros = [0] * len(healthy_df)\n",
    "    listofones = [1] * len(patient_df)\n",
    "\n",
    "    patient_df['Label'] = listofones\n",
    "    healthy_df['Label'] = listofzeros\n",
    "\n",
    "    patient_samples = patient_df.to_numpy()\n",
    "    healthy_samples = healthy_df.to_numpy()\n",
    "\n",
    "    samples = np.vstack((patient_samples, healthy_samples))\n",
    "    print(samples[0])\n",
    "    np.random.shuffle(samples)\n",
    "\n",
    "    labels = samples[:,-1]\n",
    "    labels = labels.astype(int)\n",
    "    \n",
    "    samples = np.delete(samples, -1, 1)\n",
    "    print(len(samples), len(labels))\n",
    "\n",
    "    return samples, labels"
   ]
  },
  {
   "cell_type": "code",
   "execution_count": 11,
   "metadata": {},
   "outputs": [],
   "source": [
    "from sklearn.svm import SVC\n",
    "\n",
    "def svm(training_samples, training_labels, test_samples):\n",
    "    clf = SVC(kernel=\"linear\")\n",
    "    clf.fit(training_samples, training_labels)\n",
    "    return clf.predict(test_samples)"
   ]
  },
  {
   "cell_type": "code",
   "execution_count": 12,
   "metadata": {},
   "outputs": [],
   "source": [
    "from sklearn.cluster import KMeans\n",
    "\n",
    "def kMeans(training_samples, training_labels, test_samples):\n",
    "    kmeans = KMeans(n_clusters=2, random_state=0)\n",
    "    kmeans.fit(training_samples, training_labels)\n",
    "    return kmeans.predict(test_samples)"
   ]
  },
  {
   "cell_type": "code",
   "execution_count": 13,
   "metadata": {},
   "outputs": [],
   "source": [
    "from sklearn.ensemble import RandomForestClassifier\n",
    "\n",
    "def rf(training_samples, training_labels, test_samples):\n",
    "    clf = RandomForestClassifier(random_state=1, n_estimators=300)\n",
    "    clf.fit(training_samples, training_labels)\n",
    "    return clf.predict(test_samples)"
   ]
  },
  {
   "cell_type": "code",
   "execution_count": 14,
   "metadata": {},
   "outputs": [],
   "source": [
    "def calculate_cm_recall_precision(testlabels, y_true):\n",
    "    y_pred = list(testlabels)\n",
    "    labels = [0, 1]\n",
    "    recall = recall_score(y_true, y_pred, labels, average=None)\n",
    "    precision = precision_score(y_true, y_pred,labels, average=None)\n",
    "    f1 = f1_score(y_true, y_pred,labels, average=None)\n",
    "    return confusion_matrix(y_true, y_pred), recall, precision, f1;"
   ]
  },
  {
   "cell_type": "code",
   "execution_count": 15,
   "metadata": {},
   "outputs": [],
   "source": [
    "from sklearn.model_selection import StratifiedKFold\n",
    "\n",
    "def kFoldCrossValidation(n, X, y, model):\n",
    "    skf = StratifiedKFold(n_splits=n, shuffle=True)\n",
    "    for train_index, test_index in skf.split(X, y):\n",
    "        X_train, X_test = X[train_index], X[test_index]\n",
    "        y_train, y_test = y[train_index], y[test_index]\n",
    "        \n",
    "        print(\"Predicting labels:\\n\")\n",
    "        if(model == \"SVM\"):\n",
    "            predicted_test_labels = svm(X_train, y_train, X_test)\n",
    "        elif(model == \"kMeans\"):\n",
    "            predicted_test_labels = kMeans(X_train, y_train, X_test)\n",
    "        elif(model == \"RandomForestClassifier\"):\n",
    "            predicted_test_labels = rf(X_train, y_train, X_test)\n",
    "        \n",
    "        print(\"Calculating scores:\\n\")\n",
    "        cm, recall, precision, f1 = calculate_cm_recall_precision(predicted_test_labels, y_test)\n",
    "        answer = [[model],\n",
    "                  [\"Metric\", \"Healthy\", \"Patient\"],\n",
    "                  [\"Recall\", recall[0], recall[1]],\n",
    "                  [\"Precision\", precision[0], precision[1]],\n",
    "                  [\"F1-Score\", f1[0], f1[1]],\n",
    "                 ]\n",
    "\n",
    "        display(HTML(tabulate.tabulate(answer, tablefmt='html')))"
   ]
  },
  {
   "cell_type": "code",
   "execution_count": 16,
   "metadata": {},
   "outputs": [
    {
     "name": "stdout",
     "output_type": "stream",
     "text": [
      "1082 2172\n",
      "[-1.00000005e-08  1.35332341e+01 -1.98957086e-01 -1.44259898e+00\n",
      " -9.99999873e-09  4.03264231e+00 -4.97080609e-01  5.26596341e-01\n",
      " -9.99999247e-09  1.99606224e+00  1.19709851e-01  6.22993356e-01\n",
      " -1.00000002e-08  2.49621912e+00  3.72091438e-02 -6.33984995e-01\n",
      " -9.99999920e-09  2.36262275e+00 -4.94927839e-01  4.38764617e-02\n",
      " -1.00000014e-08  1.58849947e+00  3.85578125e-01  1.66772290e-01\n",
      " -9.99999953e-09  1.24230210e+00 -7.52247284e-01  3.77686634e-01\n",
      " -9.99999971e-09  1.30999791e+00 -7.17744493e-01 -9.80582563e-02\n",
      " -1.00000000e-08  1.26126912e+00 -3.62055444e-01 -6.57563611e-01\n",
      " -1.00000003e-08  1.09333905e+00 -3.92464545e-01 -4.43685263e-01\n",
      " -9.99999999e-09  7.66703651e-01  1.25992222e-01 -6.46560540e-01\n",
      " -9.99999989e-09  8.44180658e-01  1.85652766e-01  3.70511788e-01\n",
      "  1.00000000e+00]\n",
      "3254 3254\n"
     ]
    }
   ],
   "source": [
    "patient_df, healthy_df = readData();\n",
    "samples, labels = createSamplesAndLabels(patient_df, healthy_df)"
   ]
  },
  {
   "cell_type": "code",
   "execution_count": 10,
   "metadata": {},
   "outputs": [
    {
     "name": "stdout",
     "output_type": "stream",
     "text": [
      "<class 'numpy.ndarray'> <class 'numpy.float64'>\n"
     ]
    }
   ],
   "source": [
    "samples = samples.astype(np.float)\n",
    "labels = labels.astype(np.float)\n",
    "print(type(samples), type(samples[0][0]))"
   ]
  },
  {
   "cell_type": "code",
   "execution_count": 12,
   "metadata": {},
   "outputs": [
    {
     "name": "stdout",
     "output_type": "stream",
     "text": [
      "Predicting labels:\n",
      "\n",
      "Calculating scores:\n",
      "\n"
     ]
    },
    {
     "data": {
      "text/html": [
       "<table>\n",
       "<tbody>\n",
       "<tr><td>SVM      </td><td>                  </td><td>                  </td></tr>\n",
       "<tr><td>Metric   </td><td>Healthy           </td><td>Patient           </td></tr>\n",
       "<tr><td>Recall   </td><td>0.9142857142857143</td><td>0.9628378378378378</td></tr>\n",
       "<tr><td>Precision</td><td>0.897196261682243 </td><td>0.9693877551020408</td></tr>\n",
       "<tr><td>F1-Score </td><td>0.9056603773584906</td><td>0.9661016949152542</td></tr>\n",
       "</tbody>\n",
       "</table>"
      ],
      "text/plain": [
       "<IPython.core.display.HTML object>"
      ]
     },
     "metadata": {},
     "output_type": "display_data"
    },
    {
     "name": "stdout",
     "output_type": "stream",
     "text": [
      "Predicting labels:\n",
      "\n",
      "Calculating scores:\n",
      "\n"
     ]
    },
    {
     "data": {
      "text/html": [
       "<table>\n",
       "<tbody>\n",
       "<tr><td>SVM      </td><td>                  </td><td>                  </td></tr>\n",
       "<tr><td>Metric   </td><td>Healthy           </td><td>Patient           </td></tr>\n",
       "<tr><td>Recall   </td><td>0.9326923076923077</td><td>0.9256756756756757</td></tr>\n",
       "<tr><td>Precision</td><td>0.8151260504201681</td><td>0.9750889679715302</td></tr>\n",
       "<tr><td>F1-Score </td><td>0.8699551569506726</td><td>0.949740034662045 </td></tr>\n",
       "</tbody>\n",
       "</table>"
      ],
      "text/plain": [
       "<IPython.core.display.HTML object>"
      ]
     },
     "metadata": {},
     "output_type": "display_data"
    },
    {
     "name": "stdout",
     "output_type": "stream",
     "text": [
      "Predicting labels:\n",
      "\n",
      "Calculating scores:\n",
      "\n"
     ]
    },
    {
     "data": {
      "text/html": [
       "<table>\n",
       "<tbody>\n",
       "<tr><td>SVM      </td><td>                  </td><td>                  </td></tr>\n",
       "<tr><td>Metric   </td><td>Healthy           </td><td>Patient           </td></tr>\n",
       "<tr><td>Recall   </td><td>0.7884615384615384</td><td>0.9459459459459459</td></tr>\n",
       "<tr><td>Precision</td><td>0.8367346938775511</td><td>0.9271523178807947</td></tr>\n",
       "<tr><td>F1-Score </td><td>0.8118811881188118</td><td>0.9364548494983277</td></tr>\n",
       "</tbody>\n",
       "</table>"
      ],
      "text/plain": [
       "<IPython.core.display.HTML object>"
      ]
     },
     "metadata": {},
     "output_type": "display_data"
    },
    {
     "name": "stdout",
     "output_type": "stream",
     "text": [
      "Predicting labels:\n",
      "\n",
      "Calculating scores:\n",
      "\n"
     ]
    },
    {
     "data": {
      "text/html": [
       "<table>\n",
       "<tbody>\n",
       "<tr><td>SVM      </td><td>                  </td><td>                  </td></tr>\n",
       "<tr><td>Metric   </td><td>Healthy           </td><td>Patient           </td></tr>\n",
       "<tr><td>Recall   </td><td>0.8461538461538461</td><td>0.956081081081081 </td></tr>\n",
       "<tr><td>Precision</td><td>0.8712871287128713</td><td>0.9464882943143813</td></tr>\n",
       "<tr><td>F1-Score </td><td>0.8585365853658536</td><td>0.9512605042016806</td></tr>\n",
       "</tbody>\n",
       "</table>"
      ],
      "text/plain": [
       "<IPython.core.display.HTML object>"
      ]
     },
     "metadata": {},
     "output_type": "display_data"
    },
    {
     "name": "stdout",
     "output_type": "stream",
     "text": [
      "Predicting labels:\n",
      "\n",
      "Calculating scores:\n",
      "\n"
     ]
    },
    {
     "data": {
      "text/html": [
       "<table>\n",
       "<tbody>\n",
       "<tr><td>SVM      </td><td>                  </td><td>                  </td></tr>\n",
       "<tr><td>Metric   </td><td>Healthy           </td><td>Patient           </td></tr>\n",
       "<tr><td>Recall   </td><td>0.8269230769230769</td><td>0.9491525423728814</td></tr>\n",
       "<tr><td>Precision</td><td>0.8514851485148515</td><td>0.9395973154362416</td></tr>\n",
       "<tr><td>F1-Score </td><td>0.8390243902439023</td><td>0.9443507588532882</td></tr>\n",
       "</tbody>\n",
       "</table>"
      ],
      "text/plain": [
       "<IPython.core.display.HTML object>"
      ]
     },
     "metadata": {},
     "output_type": "display_data"
    }
   ],
   "source": [
    "kFoldCrossValidation(5, samples[0:2000], labels[0:2000], \"SVM\")"
   ]
  },
  {
   "cell_type": "code",
   "execution_count": 13,
   "metadata": {},
   "outputs": [
    {
     "name": "stdout",
     "output_type": "stream",
     "text": [
      "Predicting labels:\n",
      "\n",
      "Calculating scores:\n",
      "\n"
     ]
    },
    {
     "data": {
      "text/html": [
       "<table>\n",
       "<tbody>\n",
       "<tr><td>kMeans   </td><td>                  </td><td>                  </td></tr>\n",
       "<tr><td>Metric   </td><td>Healthy           </td><td>Patient           </td></tr>\n",
       "<tr><td>Recall   </td><td>1.0               </td><td>0.5304054054054054</td></tr>\n",
       "<tr><td>Precision</td><td>0.430327868852459 </td><td>1.0               </td></tr>\n",
       "<tr><td>F1-Score </td><td>0.6017191977077364</td><td>0.6931567328918322</td></tr>\n",
       "</tbody>\n",
       "</table>"
      ],
      "text/plain": [
       "<IPython.core.display.HTML object>"
      ]
     },
     "metadata": {},
     "output_type": "display_data"
    },
    {
     "name": "stdout",
     "output_type": "stream",
     "text": [
      "Predicting labels:\n",
      "\n",
      "Calculating scores:\n",
      "\n"
     ]
    },
    {
     "data": {
      "text/html": [
       "<table>\n",
       "<tbody>\n",
       "<tr><td>kMeans   </td><td>                  </td><td>                   </td></tr>\n",
       "<tr><td>Metric   </td><td>Healthy           </td><td>Patient            </td></tr>\n",
       "<tr><td>Recall   </td><td>1.0               </td><td>0.47635135135135137</td></tr>\n",
       "<tr><td>Precision</td><td>0.4015444015444015</td><td>1.0                </td></tr>\n",
       "<tr><td>F1-Score </td><td>0.5730027548209365</td><td>0.6453089244851259 </td></tr>\n",
       "</tbody>\n",
       "</table>"
      ],
      "text/plain": [
       "<IPython.core.display.HTML object>"
      ]
     },
     "metadata": {},
     "output_type": "display_data"
    },
    {
     "name": "stdout",
     "output_type": "stream",
     "text": [
      "Predicting labels:\n",
      "\n",
      "Calculating scores:\n",
      "\n"
     ]
    },
    {
     "data": {
      "text/html": [
       "<table>\n",
       "<tbody>\n",
       "<tr><td>kMeans   </td><td>                   </td><td>                  </td></tr>\n",
       "<tr><td>Metric   </td><td>Healthy            </td><td>Patient           </td></tr>\n",
       "<tr><td>Recall   </td><td>1.0                </td><td>0.4797297297297297</td></tr>\n",
       "<tr><td>Precision</td><td>0.40310077519379844</td><td>1.0               </td></tr>\n",
       "<tr><td>F1-Score </td><td>0.574585635359116  </td><td>0.6484018264840182</td></tr>\n",
       "</tbody>\n",
       "</table>"
      ],
      "text/plain": [
       "<IPython.core.display.HTML object>"
      ]
     },
     "metadata": {},
     "output_type": "display_data"
    },
    {
     "name": "stdout",
     "output_type": "stream",
     "text": [
      "Predicting labels:\n",
      "\n",
      "Calculating scores:\n",
      "\n"
     ]
    },
    {
     "data": {
      "text/html": [
       "<table>\n",
       "<tbody>\n",
       "<tr><td>kMeans   </td><td>       </td><td>                  </td></tr>\n",
       "<tr><td>Metric   </td><td>Healthy</td><td>Patient           </td></tr>\n",
       "<tr><td>Recall   </td><td>0.0    </td><td>0.5236486486486487</td></tr>\n",
       "<tr><td>Precision</td><td>0.0    </td><td>0.5984555984555985</td></tr>\n",
       "<tr><td>F1-Score </td><td>0.0    </td><td>0.5585585585585586</td></tr>\n",
       "</tbody>\n",
       "</table>"
      ],
      "text/plain": [
       "<IPython.core.display.HTML object>"
      ]
     },
     "metadata": {},
     "output_type": "display_data"
    },
    {
     "name": "stdout",
     "output_type": "stream",
     "text": [
      "Predicting labels:\n",
      "\n",
      "Calculating scores:\n",
      "\n"
     ]
    },
    {
     "data": {
      "text/html": [
       "<table>\n",
       "<tbody>\n",
       "<tr><td>kMeans   </td><td>       </td><td>                  </td></tr>\n",
       "<tr><td>Metric   </td><td>Healthy</td><td>Patient           </td></tr>\n",
       "<tr><td>Recall   </td><td>0.0    </td><td>0.4915254237288136</td></tr>\n",
       "<tr><td>Precision</td><td>0.0    </td><td>0.5823293172690763</td></tr>\n",
       "<tr><td>F1-Score </td><td>0.0    </td><td>0.5330882352941175</td></tr>\n",
       "</tbody>\n",
       "</table>"
      ],
      "text/plain": [
       "<IPython.core.display.HTML object>"
      ]
     },
     "metadata": {},
     "output_type": "display_data"
    }
   ],
   "source": [
    "kFoldCrossValidation(5, samples[0:2000], labels[0:2000], \"kMeans\")"
   ]
  },
  {
   "cell_type": "code",
   "execution_count": 14,
   "metadata": {},
   "outputs": [
    {
     "name": "stdout",
     "output_type": "stream",
     "text": [
      "Predicting labels:\n",
      "\n",
      "Calculating scores:\n",
      "\n"
     ]
    },
    {
     "data": {
      "text/html": [
       "<table>\n",
       "<tbody>\n",
       "<tr><td>RandomForestClassifier</td><td>                  </td><td>                  </td></tr>\n",
       "<tr><td>Metric                </td><td>Healthy           </td><td>Patient           </td></tr>\n",
       "<tr><td>Recall                </td><td>0.9904761904761905</td><td>0.9797297297297297</td></tr>\n",
       "<tr><td>Precision             </td><td>0.9454545454545454</td><td>0.9965635738831615</td></tr>\n",
       "<tr><td>F1-Score              </td><td>0.9674418604651163</td><td>0.9880749574105622</td></tr>\n",
       "</tbody>\n",
       "</table>"
      ],
      "text/plain": [
       "<IPython.core.display.HTML object>"
      ]
     },
     "metadata": {},
     "output_type": "display_data"
    },
    {
     "name": "stdout",
     "output_type": "stream",
     "text": [
      "Predicting labels:\n",
      "\n",
      "Calculating scores:\n",
      "\n"
     ]
    },
    {
     "data": {
      "text/html": [
       "<table>\n",
       "<tbody>\n",
       "<tr><td>RandomForestClassifier</td><td>                  </td><td>                  </td></tr>\n",
       "<tr><td>Metric                </td><td>Healthy           </td><td>Patient           </td></tr>\n",
       "<tr><td>Recall                </td><td>0.9903846153846154</td><td>0.9594594594594594</td></tr>\n",
       "<tr><td>Precision             </td><td>0.8956521739130435</td><td>0.9964912280701754</td></tr>\n",
       "<tr><td>F1-Score              </td><td>0.9406392694063926</td><td>0.9776247848537005</td></tr>\n",
       "</tbody>\n",
       "</table>"
      ],
      "text/plain": [
       "<IPython.core.display.HTML object>"
      ]
     },
     "metadata": {},
     "output_type": "display_data"
    },
    {
     "name": "stdout",
     "output_type": "stream",
     "text": [
      "Predicting labels:\n",
      "\n",
      "Calculating scores:\n",
      "\n"
     ]
    },
    {
     "data": {
      "text/html": [
       "<table>\n",
       "<tbody>\n",
       "<tr><td>RandomForestClassifier</td><td>                  </td><td>                  </td></tr>\n",
       "<tr><td>Metric                </td><td>Healthy           </td><td>Patient           </td></tr>\n",
       "<tr><td>Recall                </td><td>1.0               </td><td>0.9594594594594594</td></tr>\n",
       "<tr><td>Precision             </td><td>0.896551724137931 </td><td>1.0               </td></tr>\n",
       "<tr><td>F1-Score              </td><td>0.9454545454545454</td><td>0.9793103448275862</td></tr>\n",
       "</tbody>\n",
       "</table>"
      ],
      "text/plain": [
       "<IPython.core.display.HTML object>"
      ]
     },
     "metadata": {},
     "output_type": "display_data"
    },
    {
     "name": "stdout",
     "output_type": "stream",
     "text": [
      "Predicting labels:\n",
      "\n",
      "Calculating scores:\n",
      "\n"
     ]
    },
    {
     "data": {
      "text/html": [
       "<table>\n",
       "<tbody>\n",
       "<tr><td>RandomForestClassifier</td><td>                  </td><td>                  </td></tr>\n",
       "<tr><td>Metric                </td><td>Healthy           </td><td>Patient           </td></tr>\n",
       "<tr><td>Recall                </td><td>0.9807692307692307</td><td>0.9594594594594594</td></tr>\n",
       "<tr><td>Precision             </td><td>0.8947368421052632</td><td>0.993006993006993 </td></tr>\n",
       "<tr><td>F1-Score              </td><td>0.9357798165137614</td><td>0.9759450171821306</td></tr>\n",
       "</tbody>\n",
       "</table>"
      ],
      "text/plain": [
       "<IPython.core.display.HTML object>"
      ]
     },
     "metadata": {},
     "output_type": "display_data"
    },
    {
     "name": "stdout",
     "output_type": "stream",
     "text": [
      "Predicting labels:\n",
      "\n",
      "Calculating scores:\n",
      "\n"
     ]
    },
    {
     "data": {
      "text/html": [
       "<table>\n",
       "<tbody>\n",
       "<tr><td>RandomForestClassifier</td><td>                  </td><td>                  </td></tr>\n",
       "<tr><td>Metric                </td><td>Healthy           </td><td>Patient           </td></tr>\n",
       "<tr><td>Recall                </td><td>0.9807692307692307</td><td>0.9728813559322034</td></tr>\n",
       "<tr><td>Precision             </td><td>0.9272727272727272</td><td>0.9930795847750865</td></tr>\n",
       "<tr><td>F1-Score              </td><td>0.9532710280373831</td><td>0.9828767123287672</td></tr>\n",
       "</tbody>\n",
       "</table>"
      ],
      "text/plain": [
       "<IPython.core.display.HTML object>"
      ]
     },
     "metadata": {},
     "output_type": "display_data"
    }
   ],
   "source": [
    "kFoldCrossValidation(5, samples[0:2000], labels[0:2000], \"RandomForestClassifier\")"
   ]
  },
  {
   "cell_type": "code",
   "execution_count": null,
   "metadata": {},
   "outputs": [],
   "source": []
  }
 ],
 "metadata": {
  "kernelspec": {
   "display_name": "Python 3",
   "language": "python",
   "name": "python3"
  },
  "language_info": {
   "codemirror_mode": {
    "name": "ipython",
    "version": 3
   },
   "file_extension": ".py",
   "mimetype": "text/x-python",
   "name": "python",
   "nbconvert_exporter": "python",
   "pygments_lexer": "ipython3",
   "version": "3.7.0"
  }
 },
 "nbformat": 4,
 "nbformat_minor": 4
}

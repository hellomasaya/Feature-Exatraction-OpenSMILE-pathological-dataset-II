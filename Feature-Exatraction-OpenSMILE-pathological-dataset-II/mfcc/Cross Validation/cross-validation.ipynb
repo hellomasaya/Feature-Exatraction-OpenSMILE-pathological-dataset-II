{
 "cells": [
  {
   "cell_type": "code",
   "execution_count": 2,
   "metadata": {},
   "outputs": [],
   "source": [
    "import numpy as np\n",
    "import pandas as pd\n",
    "import csv\n",
    "from IPython.display import HTML, display\n",
    "import tabulate\n",
    "from sklearn.metrics import confusion_matrix\n",
    "from sklearn.metrics import recall_score\n",
    "from sklearn.metrics import precision_score\n",
    "from sklearn.metrics import f1_score"
   ]
  },
  {
   "cell_type": "code",
   "execution_count": 3,
   "metadata": {},
   "outputs": [],
   "source": [
    "def readData():    \n",
    "    patientdata = pd.read_csv('./patient_output.csv', delimiter='\\t')\n",
    "    healthydata = pd.read_csv('./healthy_output.csv', delimiter='\\t')\n",
    "\n",
    "    columns = patientdata.columns.values.tolist()\n",
    "    \n",
    "    return patientdata, healthydata, columns"
   ]
  },
  {
   "cell_type": "code",
   "execution_count": 11,
   "metadata": {},
   "outputs": [],
   "source": [
    "def createSamplesAndLabels(patient_df, healthy_df):\n",
    "    print(len(healthy_df), len(patient_df))\n",
    "    listofzeros = [0] * len(healthy_df)\n",
    "    listofones = [1] * len(patient_df)\n",
    "\n",
    "    patient_df['Label'] = listofones\n",
    "    healthy_df['Label'] = listofzeros\n",
    "\n",
    "    patient_samples = patient_df.to_numpy()\n",
    "    healthy_samples = healthy_df.to_numpy()\n",
    "\n",
    "    samples = np.vstack((patient_samples, healthy_samples))\n",
    "    \n",
    "    np.random.shuffle(samples)\n",
    "\n",
    "    labels = samples[:,-1]\n",
    "    labels = labels.astype(int)\n",
    "    \n",
    "    samples = np.delete(samples, -1, 1)\n",
    "    print(len(samples))\n",
    "\n",
    "    return samples, labels"
   ]
  },
  {
   "cell_type": "code",
   "execution_count": 5,
   "metadata": {},
   "outputs": [],
   "source": [
    "from sklearn.svm import SVC\n",
    "\n",
    "def svm(training_samples, training_labels, test_samples):\n",
    "    clf = SVC(kernel=\"linear\")\n",
    "    clf.fit(training_samples, training_labels)\n",
    "    return clf.predict(test_samples)"
   ]
  },
  {
   "cell_type": "code",
   "execution_count": 6,
   "metadata": {},
   "outputs": [],
   "source": [
    "from sklearn.cluster import KMeans\n",
    "\n",
    "def kMeans(training_samples, training_labels, test_samples):\n",
    "    kmeans = KMeans(n_clusters=2, random_state=0)\n",
    "    kmeans.fit(training_samples, training_labels)\n",
    "    return kmeans.predict(test_samples)"
   ]
  },
  {
   "cell_type": "code",
   "execution_count": 7,
   "metadata": {},
   "outputs": [],
   "source": [
    "from sklearn.ensemble import RandomForestClassifier\n",
    "\n",
    "def rf(training_samples, training_labels, test_samples):\n",
    "    clf = RandomForestClassifier(random_state=1, n_estimators=300)\n",
    "    clf.fit(training_samples, training_labels)\n",
    "    return clf.predict(test_samples)"
   ]
  },
  {
   "cell_type": "code",
   "execution_count": 8,
   "metadata": {},
   "outputs": [],
   "source": [
    "def calculate_cm_recall_precision(testlabels, y_true):\n",
    "    y_pred = list(testlabels)\n",
    "    labels = [0, 1]\n",
    "    recall = recall_score(y_true, y_pred, labels, average=None)\n",
    "    precision = precision_score(y_true, y_pred,labels, average=None)\n",
    "    f1 = f1_score(y_true, y_pred,labels, average=None)\n",
    "    return confusion_matrix(y_true, y_pred), recall, precision, f1;"
   ]
  },
  {
   "cell_type": "code",
   "execution_count": 9,
   "metadata": {},
   "outputs": [],
   "source": [
    "from sklearn.model_selection import StratifiedKFold\n",
    "\n",
    "def kFoldCrossValidation(n, X, y, model):\n",
    "    skf = StratifiedKFold(n_splits=n, shuffle=True)\n",
    "    for train_index, test_index in skf.split(X, y):\n",
    "        X_train, X_test = X[train_index], X[test_index]\n",
    "        y_train, y_test = y[train_index], y[test_index]\n",
    "        \n",
    "        if(model == \"SVM\"):\n",
    "            predicted_test_labels = svm(X_train, y_train, X_test)\n",
    "        elif(model == \"kMeans\"):\n",
    "            predicted_test_labels = kMeans(X_train, y_train, X_test)\n",
    "        elif(model == \"RandomForestClassifier\"):\n",
    "            predicted_test_labels = rf(X_train, y_train, X_test)\n",
    "        \n",
    "        cm, recall, precision, f1 = calculate_cm_recall_precision(predicted_test_labels, y_test)\n",
    "        answer = [[model],\n",
    "                  [\"Metric\", \"Healthy\", \"Patient\"],\n",
    "                  [\"Recall\", recall[0], recall[1]],\n",
    "                  [\"Precision\", precision[0], precision[1]],\n",
    "                  [\"F1-Score\", f1[0], f1[1]],\n",
    "                 ]\n",
    "\n",
    "        display(HTML(tabulate.tabulate(answer, tablefmt='html')))\n",
    "        \n",
    "                \n",
    "#         print(\"cm\", cm, \"\\nrecall\", recall, \"\\nprecision\", precision, \"\\nf1:\", f1)\n",
    "#         print(\"Mean Recall:\", np.mean(recall))\n",
    "#         print(\"Mean Precision:\", np.mean(precision))\n",
    "#         print(\"meanf1:\", np.mean(f1))\n",
    "#         print('\\n')"
   ]
  },
  {
   "cell_type": "code",
   "execution_count": 12,
   "metadata": {},
   "outputs": [
    {
     "name": "stdout",
     "output_type": "stream",
     "text": [
      "1082 2168\n",
      "3250\n"
     ]
    }
   ],
   "source": [
    "patient_df, healthy_df, features = readData();\n",
    "samples, labels = createSamplesAndLabels(patient_df, healthy_df)"
   ]
  },
  {
   "cell_type": "code",
   "execution_count": 23,
   "metadata": {},
   "outputs": [
    {
     "data": {
      "text/html": [
       "<table>\n",
       "<tbody>\n",
       "<tr><td>SVM      </td><td>                  </td><td>                  </td></tr>\n",
       "<tr><td>Metric   </td><td>Healthy           </td><td>Patient           </td></tr>\n",
       "<tr><td>Recall   </td><td>0.9308755760368663</td><td>0.9792626728110599</td></tr>\n",
       "<tr><td>Precision</td><td>0.957345971563981 </td><td>0.9659090909090909</td></tr>\n",
       "<tr><td>F1-Score </td><td>0.9439252336448597</td><td>0.9725400457665904</td></tr>\n",
       "</tbody>\n",
       "</table>"
      ],
      "text/plain": [
       "<IPython.core.display.HTML object>"
      ]
     },
     "metadata": {},
     "output_type": "display_data"
    },
    {
     "data": {
      "text/html": [
       "<table>\n",
       "<tbody>\n",
       "<tr><td>SVM      </td><td>                  </td><td>                  </td></tr>\n",
       "<tr><td>Metric   </td><td>Healthy           </td><td>Patient           </td></tr>\n",
       "<tr><td>Recall   </td><td>0.9631336405529954</td><td>0.9654377880184332</td></tr>\n",
       "<tr><td>Precision</td><td>0.9330357142857143</td><td>0.9812646370023419</td></tr>\n",
       "<tr><td>F1-Score </td><td>0.9478458049886621</td><td>0.9732868757259   </td></tr>\n",
       "</tbody>\n",
       "</table>"
      ],
      "text/plain": [
       "<IPython.core.display.HTML object>"
      ]
     },
     "metadata": {},
     "output_type": "display_data"
    },
    {
     "data": {
      "text/html": [
       "<table>\n",
       "<tbody>\n",
       "<tr><td>SVM      </td><td>                  </td><td>                  </td></tr>\n",
       "<tr><td>Metric   </td><td>Healthy           </td><td>Patient           </td></tr>\n",
       "<tr><td>Recall   </td><td>0.9212962962962963</td><td>0.9746543778801844</td></tr>\n",
       "<tr><td>Precision</td><td>0.9476190476190476</td><td>0.9613636363636363</td></tr>\n",
       "<tr><td>F1-Score </td><td>0.9342723004694835</td><td>0.9679633867276888</td></tr>\n",
       "</tbody>\n",
       "</table>"
      ],
      "text/plain": [
       "<IPython.core.display.HTML object>"
      ]
     },
     "metadata": {},
     "output_type": "display_data"
    },
    {
     "data": {
      "text/html": [
       "<table>\n",
       "<tbody>\n",
       "<tr><td>SVM      </td><td>                  </td><td>                  </td></tr>\n",
       "<tr><td>Metric   </td><td>Healthy           </td><td>Patient           </td></tr>\n",
       "<tr><td>Recall   </td><td>0.9212962962962963</td><td>0.9722863741339491</td></tr>\n",
       "<tr><td>Precision</td><td>0.943127962085308 </td><td>0.9611872146118722</td></tr>\n",
       "<tr><td>F1-Score </td><td>0.9320843091334895</td><td>0.9667049368541907</td></tr>\n",
       "</tbody>\n",
       "</table>"
      ],
      "text/plain": [
       "<IPython.core.display.HTML object>"
      ]
     },
     "metadata": {},
     "output_type": "display_data"
    },
    {
     "data": {
      "text/html": [
       "<table>\n",
       "<tbody>\n",
       "<tr><td>SVM      </td><td>                  </td><td>                  </td></tr>\n",
       "<tr><td>Metric   </td><td>Healthy           </td><td>Patient           </td></tr>\n",
       "<tr><td>Recall   </td><td>0.9444444444444444</td><td>0.976905311778291 </td></tr>\n",
       "<tr><td>Precision</td><td>0.9532710280373832</td><td>0.9724137931034482</td></tr>\n",
       "<tr><td>F1-Score </td><td>0.9488372093023255</td><td>0.9746543778801843</td></tr>\n",
       "</tbody>\n",
       "</table>"
      ],
      "text/plain": [
       "<IPython.core.display.HTML object>"
      ]
     },
     "metadata": {},
     "output_type": "display_data"
    }
   ],
   "source": [
    "kFoldCrossValidation(5, samples, labels, \"SVM\")"
   ]
  },
  {
   "cell_type": "code",
   "execution_count": 24,
   "metadata": {},
   "outputs": [
    {
     "data": {
      "text/html": [
       "<table>\n",
       "<tbody>\n",
       "<tr><td>kMeans   </td><td>                   </td><td>                  </td></tr>\n",
       "<tr><td>Metric   </td><td>Healthy            </td><td>Patient           </td></tr>\n",
       "<tr><td>Recall   </td><td>0.12442396313364056</td><td>0.6728110599078341</td></tr>\n",
       "<tr><td>Precision</td><td>0.15976331360946747</td><td>0.6058091286307054</td></tr>\n",
       "<tr><td>F1-Score </td><td>0.13989637305699484</td><td>0.6375545851528384</td></tr>\n",
       "</tbody>\n",
       "</table>"
      ],
      "text/plain": [
       "<IPython.core.display.HTML object>"
      ]
     },
     "metadata": {},
     "output_type": "display_data"
    },
    {
     "data": {
      "text/html": [
       "<table>\n",
       "<tbody>\n",
       "<tr><td>kMeans   </td><td>                  </td><td>                   </td></tr>\n",
       "<tr><td>Metric   </td><td>Healthy           </td><td>Patient            </td></tr>\n",
       "<tr><td>Recall   </td><td>0.9032258064516129</td><td>0.31336405529953915</td></tr>\n",
       "<tr><td>Precision</td><td>0.3967611336032389</td><td>0.8662420382165605 </td></tr>\n",
       "<tr><td>F1-Score </td><td>0.5513361462728551</td><td>0.46023688663282575</td></tr>\n",
       "</tbody>\n",
       "</table>"
      ],
      "text/plain": [
       "<IPython.core.display.HTML object>"
      ]
     },
     "metadata": {},
     "output_type": "display_data"
    },
    {
     "data": {
      "text/html": [
       "<table>\n",
       "<tbody>\n",
       "<tr><td>kMeans   </td><td>                  </td><td>                   </td></tr>\n",
       "<tr><td>Metric   </td><td>Healthy           </td><td>Patient            </td></tr>\n",
       "<tr><td>Recall   </td><td>0.9120370370370371</td><td>0.31336405529953915</td></tr>\n",
       "<tr><td>Precision</td><td>0.397979797979798 </td><td>0.8774193548387097 </td></tr>\n",
       "<tr><td>F1-Score </td><td>0.5541490857946554</td><td>0.4617996604414262 </td></tr>\n",
       "</tbody>\n",
       "</table>"
      ],
      "text/plain": [
       "<IPython.core.display.HTML object>"
      ]
     },
     "metadata": {},
     "output_type": "display_data"
    },
    {
     "data": {
      "text/html": [
       "<table>\n",
       "<tbody>\n",
       "<tr><td>kMeans   </td><td>                   </td><td>                   </td></tr>\n",
       "<tr><td>Metric   </td><td>Healthy            </td><td>Patient            </td></tr>\n",
       "<tr><td>Recall   </td><td>0.8935185185185185 </td><td>0.3233256351039261 </td></tr>\n",
       "<tr><td>Precision</td><td>0.39711934156378603</td><td>0.8588957055214724 </td></tr>\n",
       "<tr><td>F1-Score </td><td>0.5498575498575499 </td><td>0.46979865771812085</td></tr>\n",
       "</tbody>\n",
       "</table>"
      ],
      "text/plain": [
       "<IPython.core.display.HTML object>"
      ]
     },
     "metadata": {},
     "output_type": "display_data"
    },
    {
     "data": {
      "text/html": [
       "<table>\n",
       "<tbody>\n",
       "<tr><td>kMeans   </td><td>                  </td><td>                  </td></tr>\n",
       "<tr><td>Metric   </td><td>Healthy           </td><td>Patient           </td></tr>\n",
       "<tr><td>Recall   </td><td>0.8842592592592593</td><td>0.3394919168591224</td></tr>\n",
       "<tr><td>Precision</td><td>0.40041928721174  </td><td>0.8546511627906976</td></tr>\n",
       "<tr><td>F1-Score </td><td>0.5512265512265513</td><td>0.4859504132231405</td></tr>\n",
       "</tbody>\n",
       "</table>"
      ],
      "text/plain": [
       "<IPython.core.display.HTML object>"
      ]
     },
     "metadata": {},
     "output_type": "display_data"
    }
   ],
   "source": [
    "kFoldCrossValidation(5, samples, labels, \"kMeans\")"
   ]
  },
  {
   "cell_type": "code",
   "execution_count": 25,
   "metadata": {},
   "outputs": [
    {
     "data": {
      "text/html": [
       "<table>\n",
       "<tbody>\n",
       "<tr><td>RandomForestClassifier</td><td>                  </td><td>                  </td></tr>\n",
       "<tr><td>Metric                </td><td>Healthy           </td><td>Patient           </td></tr>\n",
       "<tr><td>Recall                </td><td>0.8847926267281107</td><td>0.9654377880184332</td></tr>\n",
       "<tr><td>Precision             </td><td>0.927536231884058 </td><td>0.9436936936936937</td></tr>\n",
       "<tr><td>F1-Score              </td><td>0.9056603773584906</td><td>0.9544419134396355</td></tr>\n",
       "</tbody>\n",
       "</table>"
      ],
      "text/plain": [
       "<IPython.core.display.HTML object>"
      ]
     },
     "metadata": {},
     "output_type": "display_data"
    },
    {
     "data": {
      "text/html": [
       "<table>\n",
       "<tbody>\n",
       "<tr><td>RandomForestClassifier</td><td>                  </td><td>                  </td></tr>\n",
       "<tr><td>Metric                </td><td>Healthy           </td><td>Patient           </td></tr>\n",
       "<tr><td>Recall                </td><td>0.8894009216589862</td><td>0.9723502304147466</td></tr>\n",
       "<tr><td>Precision             </td><td>0.9414634146341463</td><td>0.9461883408071748</td></tr>\n",
       "<tr><td>F1-Score              </td><td>0.9146919431279621</td><td>0.9590909090909091</td></tr>\n",
       "</tbody>\n",
       "</table>"
      ],
      "text/plain": [
       "<IPython.core.display.HTML object>"
      ]
     },
     "metadata": {},
     "output_type": "display_data"
    },
    {
     "data": {
      "text/html": [
       "<table>\n",
       "<tbody>\n",
       "<tr><td>RandomForestClassifier</td><td>                  </td><td>                  </td></tr>\n",
       "<tr><td>Metric                </td><td>Healthy           </td><td>Patient           </td></tr>\n",
       "<tr><td>Recall                </td><td>0.9074074074074074</td><td>0.9815668202764977</td></tr>\n",
       "<tr><td>Precision             </td><td>0.9607843137254902</td><td>0.9551569506726457</td></tr>\n",
       "<tr><td>F1-Score              </td><td>0.9333333333333333</td><td>0.9681818181818181</td></tr>\n",
       "</tbody>\n",
       "</table>"
      ],
      "text/plain": [
       "<IPython.core.display.HTML object>"
      ]
     },
     "metadata": {},
     "output_type": "display_data"
    },
    {
     "data": {
      "text/html": [
       "<table>\n",
       "<tbody>\n",
       "<tr><td>RandomForestClassifier</td><td>                  </td><td>                  </td></tr>\n",
       "<tr><td>Metric                </td><td>Healthy           </td><td>Patient           </td></tr>\n",
       "<tr><td>Recall                </td><td>0.8935185185185185</td><td>0.976905311778291 </td></tr>\n",
       "<tr><td>Precision             </td><td>0.9507389162561576</td><td>0.9484304932735426</td></tr>\n",
       "<tr><td>F1-Score              </td><td>0.9212410501193318</td><td>0.9624573378839589</td></tr>\n",
       "</tbody>\n",
       "</table>"
      ],
      "text/plain": [
       "<IPython.core.display.HTML object>"
      ]
     },
     "metadata": {},
     "output_type": "display_data"
    },
    {
     "data": {
      "text/html": [
       "<table>\n",
       "<tbody>\n",
       "<tr><td>RandomForestClassifier</td><td>                  </td><td>                  </td></tr>\n",
       "<tr><td>Metric                </td><td>Healthy           </td><td>Patient           </td></tr>\n",
       "<tr><td>Recall                </td><td>0.8888888888888888</td><td>0.976905311778291 </td></tr>\n",
       "<tr><td>Precision             </td><td>0.9504950495049505</td><td>0.9463087248322147</td></tr>\n",
       "<tr><td>F1-Score              </td><td>0.9186602870813396</td><td>0.9613636363636363</td></tr>\n",
       "</tbody>\n",
       "</table>"
      ],
      "text/plain": [
       "<IPython.core.display.HTML object>"
      ]
     },
     "metadata": {},
     "output_type": "display_data"
    }
   ],
   "source": [
    "kFoldCrossValidation(5, samples, labels, \"RandomForestClassifier\")"
   ]
  },
  {
   "cell_type": "code",
   "execution_count": null,
   "metadata": {},
   "outputs": [],
   "source": []
  }
 ],
 "metadata": {
  "kernelspec": {
   "display_name": "Python 3",
   "language": "python",
   "name": "python3"
  },
  "language_info": {
   "codemirror_mode": {
    "name": "ipython",
    "version": 3
   },
   "file_extension": ".py",
   "mimetype": "text/x-python",
   "name": "python",
   "nbconvert_exporter": "python",
   "pygments_lexer": "ipython3",
   "version": "3.7.0"
  }
 },
 "nbformat": 4,
 "nbformat_minor": 4
}
